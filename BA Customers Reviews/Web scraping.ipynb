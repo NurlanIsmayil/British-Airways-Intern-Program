{
 "cells": [
  {
   "cell_type": "markdown",
   "id": "a3825f05",
   "metadata": {},
   "source": [
    "### Web scraping"
   ]
  },
  {
   "cell_type": "code",
   "execution_count": 31,
   "id": "5f9a8aab",
   "metadata": {},
   "outputs": [],
   "source": [
    "import pandas as pd\n",
    "import numpy as np\n",
    "from bs4 import BeautifulSoup\n",
    "import requests"
   ]
  },
  {
   "cell_type": "code",
   "execution_count": 36,
   "id": "002fa3d2",
   "metadata": {},
   "outputs": [
    {
     "name": "stdout",
     "output_type": "stream",
     "text": [
      "Error on page 61\n",
      "Error on page 62\n",
      "Error on page 64\n",
      "Error on page 64\n",
      "Error on page 69\n",
      "                                                 Review  \\\n",
      "0     ✅ Trip Verified |  Easy check in a T5. Galleri...   \n",
      "1     Not Verified |  Flight delayed by an hour, it ...   \n",
      "2     Not Verified | The staff are very rude and not...   \n",
      "3     ✅ Trip Verified |  Good domestic flight operat...   \n",
      "4     Not Verified | Failed at all basic travel fund...   \n",
      "...                                                 ...   \n",
      "3445  BA2262 on 17th Feb 2014. I was in 4A from Jama...   \n",
      "3446  Domestic Edinburgh-Gatwick. Late by 40 mins bu...   \n",
      "3447  LHR-BSL-LHR A319's each way check/bag drop atT...   \n",
      "3448  Flew on a 777-200 from London Heathrow to San ...   \n",
      "3449  DME-LHR. B747-400. Used Avios to sample the 'n...   \n",
      "\n",
      "                              Stars  \n",
      "0     \\n\\t\\t\\t\\t\\t\\t\\t\\t\\t\\t\\t\\t\\t5  \n",
      "1                                 8  \n",
      "2                                 2  \n",
      "3                                 2  \n",
      "4                                10  \n",
      "...                             ...  \n",
      "3445                              4  \n",
      "3446                              1  \n",
      "3447                             10  \n",
      "3448                              7  \n",
      "3449                              2  \n",
      "\n",
      "[3450 rows x 2 columns]\n"
     ]
    }
   ],
   "source": [
    "import requests\n",
    "from bs4 import BeautifulSoup\n",
    "import pandas as pd\n",
    "\n",
    "reviews = []\n",
    "stars = []\n",
    "\n",
    "for i in range(1, 70):\n",
    "    page = requests.get(f\"https://www.airlinequality.com/airline-reviews/british-airways/page/{i}/?sortby=post_date%3ADesc&pagesize=50\")\n",
    "    soup = BeautifulSoup(page.content, \"html.parser\")\n",
    "\n",
    "    for item in soup.find_all(\"div\", class_=\"text_content\"):\n",
    "        reviews.append(item.text)\n",
    "\n",
    "    for item in soup.find_all(\"div\", class_=\"rating-10\"):\n",
    "        try:\n",
    "            stars.append(item.span.text)\n",
    "        except:\n",
    "            print(f\"Error on page {i}\")\n",
    "            stars.append(\"None\")\n",
    "\n",
    "# Combine reviews and stars using zip\n",
    "combined_data = list(zip(reviews, stars))\n",
    "\n",
    "# Convert combined data into a pandas DataFrame\n",
    "df = pd.DataFrame(combined_data, columns=[\"Review\", \"Stars\"])\n",
    "\n",
    "# Display the DataFrame\n",
    "print(df)\n"
   ]
  },
  {
   "cell_type": "code",
   "execution_count": 40,
   "id": "e808bb84",
   "metadata": {},
   "outputs": [],
   "source": [
    "df.to_csv(\"C:\\\\Users\\\\Galaxy Computers\\\\Desktop\\\\BA_reviews.csv\")"
   ]
  }
 ],
 "metadata": {
  "kernelspec": {
   "display_name": "Python 3 (ipykernel)",
   "language": "python",
   "name": "python3"
  },
  "language_info": {
   "codemirror_mode": {
    "name": "ipython",
    "version": 3
   },
   "file_extension": ".py",
   "mimetype": "text/x-python",
   "name": "python",
   "nbconvert_exporter": "python",
   "pygments_lexer": "ipython3",
   "version": "3.9.12"
  }
 },
 "nbformat": 4,
 "nbformat_minor": 5
}
