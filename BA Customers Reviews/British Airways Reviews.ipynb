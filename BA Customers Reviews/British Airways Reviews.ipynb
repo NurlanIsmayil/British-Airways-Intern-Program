{
 "cells": [
  {
   "cell_type": "code",
   "execution_count": 128,
   "id": "d2aba547",
   "metadata": {},
   "outputs": [],
   "source": [
    "import pandas as pd\n",
    "import numpy as np\n",
    "import matplotlib.pyplot as plt\n",
    "import seaborn as sns \n",
    "import nltk\n",
    "from nltk.corpus import stopwords\n",
    "from nltk.tokenize import word_tokenize\n",
    "from nltk.stem import WordNetLemmatizer\n",
    "from wordcloud import WordCloud\n",
    "from nltk.corpus import stopwords\n",
    "import re"
   ]
  },
  {
   "cell_type": "code",
   "execution_count": 129,
   "id": "937d76d4",
   "metadata": {},
   "outputs": [
    {
     "data": {
      "text/html": [
       "<div>\n",
       "<style scoped>\n",
       "    .dataframe tbody tr th:only-of-type {\n",
       "        vertical-align: middle;\n",
       "    }\n",
       "\n",
       "    .dataframe tbody tr th {\n",
       "        vertical-align: top;\n",
       "    }\n",
       "\n",
       "    .dataframe thead th {\n",
       "        text-align: right;\n",
       "    }\n",
       "</style>\n",
       "<table border=\"1\" class=\"dataframe\">\n",
       "  <thead>\n",
       "    <tr style=\"text-align: right;\">\n",
       "      <th></th>\n",
       "      <th>Unnamed: 0</th>\n",
       "      <th>Review</th>\n",
       "      <th>Stars</th>\n",
       "    </tr>\n",
       "  </thead>\n",
       "  <tbody>\n",
       "    <tr>\n",
       "      <th>0</th>\n",
       "      <td>0</td>\n",
       "      <td>✅ Trip Verified |  Easy check in a T5. Galleri...</td>\n",
       "      <td>\\n\\t\\t\\t\\t\\t\\t\\t\\t\\t\\t\\t\\t\\t5</td>\n",
       "    </tr>\n",
       "    <tr>\n",
       "      <th>1</th>\n",
       "      <td>1</td>\n",
       "      <td>Not Verified |  Flight delayed by an hour, it ...</td>\n",
       "      <td>8</td>\n",
       "    </tr>\n",
       "    <tr>\n",
       "      <th>2</th>\n",
       "      <td>2</td>\n",
       "      <td>Not Verified | The staff are very rude and not...</td>\n",
       "      <td>2</td>\n",
       "    </tr>\n",
       "    <tr>\n",
       "      <th>3</th>\n",
       "      <td>3</td>\n",
       "      <td>✅ Trip Verified |  Good domestic flight operat...</td>\n",
       "      <td>2</td>\n",
       "    </tr>\n",
       "    <tr>\n",
       "      <th>4</th>\n",
       "      <td>4</td>\n",
       "      <td>Not Verified | Failed at all basic travel fund...</td>\n",
       "      <td>10</td>\n",
       "    </tr>\n",
       "  </tbody>\n",
       "</table>\n",
       "</div>"
      ],
      "text/plain": [
       "   Unnamed: 0                                             Review  \\\n",
       "0           0  ✅ Trip Verified |  Easy check in a T5. Galleri...   \n",
       "1           1  Not Verified |  Flight delayed by an hour, it ...   \n",
       "2           2  Not Verified | The staff are very rude and not...   \n",
       "3           3  ✅ Trip Verified |  Good domestic flight operat...   \n",
       "4           4  Not Verified | Failed at all basic travel fund...   \n",
       "\n",
       "                           Stars  \n",
       "0  \\n\\t\\t\\t\\t\\t\\t\\t\\t\\t\\t\\t\\t\\t5  \n",
       "1                              8  \n",
       "2                              2  \n",
       "3                              2  \n",
       "4                             10  "
      ]
     },
     "execution_count": 129,
     "metadata": {},
     "output_type": "execute_result"
    }
   ],
   "source": [
    "#Airline and Airport Customer Reviews Dataset\n",
    "df = pd.read_csv(\"C:\\\\Users\\\\Galaxy Computers\\\\Desktop\\\\BA_reviews.csv\")\n",
    "df.head()"
   ]
  },
  {
   "cell_type": "code",
   "execution_count": 130,
   "id": "4dfcae23",
   "metadata": {},
   "outputs": [
    {
     "data": {
      "text/plain": [
       "3"
      ]
     },
     "execution_count": 130,
     "metadata": {},
     "output_type": "execute_result"
    }
   ],
   "source": [
    "len(df.columns)"
   ]
  },
  {
   "cell_type": "code",
   "execution_count": 131,
   "id": "9dec4219",
   "metadata": {},
   "outputs": [
    {
     "data": {
      "text/html": [
       "<div>\n",
       "<style scoped>\n",
       "    .dataframe tbody tr th:only-of-type {\n",
       "        vertical-align: middle;\n",
       "    }\n",
       "\n",
       "    .dataframe tbody tr th {\n",
       "        vertical-align: top;\n",
       "    }\n",
       "\n",
       "    .dataframe thead th {\n",
       "        text-align: right;\n",
       "    }\n",
       "</style>\n",
       "<table border=\"1\" class=\"dataframe\">\n",
       "  <thead>\n",
       "    <tr style=\"text-align: right;\">\n",
       "      <th></th>\n",
       "      <th>Unnamed: 0</th>\n",
       "      <th>Review</th>\n",
       "      <th>Stars</th>\n",
       "    </tr>\n",
       "  </thead>\n",
       "  <tbody>\n",
       "    <tr>\n",
       "      <th>3445</th>\n",
       "      <td>3445</td>\n",
       "      <td>BA2262 on 17th Feb 2014. I was in 4A from Jama...</td>\n",
       "      <td>4</td>\n",
       "    </tr>\n",
       "    <tr>\n",
       "      <th>3446</th>\n",
       "      <td>3446</td>\n",
       "      <td>Domestic Edinburgh-Gatwick. Late by 40 mins bu...</td>\n",
       "      <td>1</td>\n",
       "    </tr>\n",
       "    <tr>\n",
       "      <th>3447</th>\n",
       "      <td>3447</td>\n",
       "      <td>LHR-BSL-LHR A319's each way check/bag drop atT...</td>\n",
       "      <td>10</td>\n",
       "    </tr>\n",
       "    <tr>\n",
       "      <th>3448</th>\n",
       "      <td>3448</td>\n",
       "      <td>Flew on a 777-200 from London Heathrow to San ...</td>\n",
       "      <td>7</td>\n",
       "    </tr>\n",
       "    <tr>\n",
       "      <th>3449</th>\n",
       "      <td>3449</td>\n",
       "      <td>DME-LHR. B747-400. Used Avios to sample the 'n...</td>\n",
       "      <td>2</td>\n",
       "    </tr>\n",
       "  </tbody>\n",
       "</table>\n",
       "</div>"
      ],
      "text/plain": [
       "      Unnamed: 0                                             Review Stars\n",
       "3445        3445  BA2262 on 17th Feb 2014. I was in 4A from Jama...     4\n",
       "3446        3446  Domestic Edinburgh-Gatwick. Late by 40 mins bu...     1\n",
       "3447        3447  LHR-BSL-LHR A319's each way check/bag drop atT...    10\n",
       "3448        3448  Flew on a 777-200 from London Heathrow to San ...     7\n",
       "3449        3449  DME-LHR. B747-400. Used Avios to sample the 'n...     2"
      ]
     },
     "execution_count": 131,
     "metadata": {},
     "output_type": "execute_result"
    }
   ],
   "source": [
    "df.tail()"
   ]
  },
  {
   "cell_type": "markdown",
   "id": "42cb30fb",
   "metadata": {},
   "source": [
    "## Data Cleaning"
   ]
  },
  {
   "cell_type": "code",
   "execution_count": 132,
   "id": "f5b92a37",
   "metadata": {},
   "outputs": [],
   "source": [
    "df.drop(columns='Unnamed: 0', inplace=True)"
   ]
  },
  {
   "cell_type": "markdown",
   "id": "1c661ebe",
   "metadata": {},
   "source": [
    "##### Fill None values with the mean of the column"
   ]
  },
  {
   "cell_type": "code",
   "execution_count": 133,
   "id": "552f71f3",
   "metadata": {},
   "outputs": [
    {
     "data": {
      "text/plain": [
       "1                                804\n",
       "2                                400\n",
       "3                                380\n",
       "8                                334\n",
       "10                               285\n",
       "9                                283\n",
       "7                                280\n",
       "4                                234\n",
       "5                                211\n",
       "6                                167\n",
       "\\n\\t\\t\\t\\t\\t\\t\\t\\t\\t\\t\\t\\t\\t5     68\n",
       "None                               4\n",
       "Name: Stars, dtype: int64"
      ]
     },
     "execution_count": 133,
     "metadata": {},
     "output_type": "execute_result"
    }
   ],
   "source": [
    "df['Stars'].value_counts()"
   ]
  },
  {
   "cell_type": "code",
   "execution_count": 134,
   "id": "48dbf139",
   "metadata": {},
   "outputs": [
    {
     "data": {
      "text/plain": [
       "3450"
      ]
     },
     "execution_count": 134,
     "metadata": {},
     "output_type": "execute_result"
    }
   ],
   "source": [
    "len(df['Stars'])"
   ]
  },
  {
   "cell_type": "code",
   "execution_count": 135,
   "id": "8782e843",
   "metadata": {},
   "outputs": [],
   "source": [
    "# Let's clean the 'stars' column by removing '\\t' and '\\n'\n",
    "df['Stars'] = df['Stars'].str.strip(\"\\n\\t\\t\\t\\t\\t\\t\\t\\t\\t\\t\\t\\t\\t\")"
   ]
  },
  {
   "cell_type": "code",
   "execution_count": 136,
   "id": "1ab08acd",
   "metadata": {},
   "outputs": [
    {
     "data": {
      "image/png": "[encoded data removed]",
      "text/plain": [
       "<Figure size 720x720 with 1 Axes>"
      ]
     },
     "metadata": {
      "needs_background": "light"
     },
     "output_type": "display_data"
    }
   ],
   "source": [
    "plt.hist(df['Stars'], bins=10, edgecolor='red') \n",
    "plt.xlabel('Stars')\n",
    "plt.ylabel('Frequency')\n",
    "plt.title('Distribution of Stars Column')\n",
    "plt.show()"
   ]
  },
  {
   "cell_type": "code",
   "execution_count": 137,
   "id": "d3ca97fd",
   "metadata": {},
   "outputs": [
    {
     "data": {
      "text/plain": [
       "Review    0\n",
       "Stars     0\n",
       "dtype: int64"
      ]
     },
     "execution_count": 137,
     "metadata": {},
     "output_type": "execute_result"
    }
   ],
   "source": [
    "df.isnull().sum()"
   ]
  },
  {
   "cell_type": "code",
   "execution_count": 138,
   "id": "61257366",
   "metadata": {},
   "outputs": [],
   "source": [
    "df['Stars'] = pd.to_numeric(df['Stars'], errors='coerce')\n",
    "\n",
    "df['Stars'] = df['Stars'].replace(\"None\", pd.NA)\n",
    "most_frequent_star = df['Stars'].mode()[0]\n",
    "df['Stars'].fillna(most_frequent_star, inplace=True)"
   ]
  },
  {
   "cell_type": "markdown",
   "id": "f5c49e2e",
   "metadata": {},
   "source": [
    "#### Cleaning Rewiews"
   ]
  },
  {
   "cell_type": "code",
   "execution_count": 139,
   "id": "3932564d",
   "metadata": {},
   "outputs": [
    {
     "name": "stdout",
     "output_type": "stream",
     "text": [
      "0    ✅ Trip Verified |  Easy check in a T5. Galleri...\n",
      "1    Not Verified |  Flight delayed by an hour, it ...\n",
      "2    Not Verified | The staff are very rude and not...\n",
      "3    ✅ Trip Verified |  Good domestic flight operat...\n",
      "4    Not Verified | Failed at all basic travel fund...\n",
      "5    ✅ Trip Verified |  They lost my baggage in a v...\n",
      "Name: Review, dtype: object 0    ✅ Trip Verified |  Easy check in a T5. Galleri...\n",
      "1    Not Verified |  Flight delayed by an hour, it ...\n",
      "2    Not Verified | The staff are very rude and not...\n",
      "3    ✅ Trip Verified |  Good domestic flight operat...\n",
      "4    Not Verified | Failed at all basic travel fund...\n",
      "5    ✅ Trip Verified |  They lost my baggage in a v...\n",
      "Name: Review, dtype: object\n"
     ]
    }
   ],
   "source": [
    "print(df.Review.head(6),df.Review.head(6))"
   ]
  },
  {
   "cell_type": "code",
   "execution_count": 140,
   "id": "b3c19098",
   "metadata": {},
   "outputs": [
    {
     "data": {
      "text/html": [
       "<div>\n",
       "<style scoped>\n",
       "    .dataframe tbody tr th:only-of-type {\n",
       "        vertical-align: middle;\n",
       "    }\n",
       "\n",
       "    .dataframe tbody tr th {\n",
       "        vertical-align: top;\n",
       "    }\n",
       "\n",
       "    .dataframe thead th {\n",
       "        text-align: right;\n",
       "    }\n",
       "</style>\n",
       "<table border=\"1\" class=\"dataframe\">\n",
       "  <thead>\n",
       "    <tr style=\"text-align: right;\">\n",
       "      <th></th>\n",
       "      <th>Review</th>\n",
       "      <th>Stars</th>\n",
       "    </tr>\n",
       "  </thead>\n",
       "  <tbody>\n",
       "    <tr>\n",
       "      <th>0</th>\n",
       "      <td>✅ Trip Verified |  Easy check in a T5. Galleri...</td>\n",
       "      <td>5.0</td>\n",
       "    </tr>\n",
       "    <tr>\n",
       "      <th>1</th>\n",
       "      <td>Not Verified |  Flight delayed by an hour, it ...</td>\n",
       "      <td>8.0</td>\n",
       "    </tr>\n",
       "    <tr>\n",
       "      <th>2</th>\n",
       "      <td>Not Verified | The staff are very rude and not...</td>\n",
       "      <td>2.0</td>\n",
       "    </tr>\n",
       "    <tr>\n",
       "      <th>3</th>\n",
       "      <td>✅ Trip Verified |  Good domestic flight operat...</td>\n",
       "      <td>2.0</td>\n",
       "    </tr>\n",
       "    <tr>\n",
       "      <th>4</th>\n",
       "      <td>Not Verified | Failed at all basic travel fund...</td>\n",
       "      <td>10.0</td>\n",
       "    </tr>\n",
       "    <tr>\n",
       "      <th>...</th>\n",
       "      <td>...</td>\n",
       "      <td>...</td>\n",
       "    </tr>\n",
       "    <tr>\n",
       "      <th>3445</th>\n",
       "      <td>BA2262 on 17th Feb 2014. I was in 4A from Jama...</td>\n",
       "      <td>4.0</td>\n",
       "    </tr>\n",
       "    <tr>\n",
       "      <th>3446</th>\n",
       "      <td>Domestic Edinburgh-Gatwick. Late by 40 mins bu...</td>\n",
       "      <td>1.0</td>\n",
       "    </tr>\n",
       "    <tr>\n",
       "      <th>3447</th>\n",
       "      <td>LHR-BSL-LHR A319's each way check/bag drop atT...</td>\n",
       "      <td>10.0</td>\n",
       "    </tr>\n",
       "    <tr>\n",
       "      <th>3448</th>\n",
       "      <td>Flew on a 777-200 from London Heathrow to San ...</td>\n",
       "      <td>7.0</td>\n",
       "    </tr>\n",
       "    <tr>\n",
       "      <th>3449</th>\n",
       "      <td>DME-LHR. B747-400. Used Avios to sample the 'n...</td>\n",
       "      <td>2.0</td>\n",
       "    </tr>\n",
       "  </tbody>\n",
       "</table>\n",
       "<p>3450 rows × 2 columns</p>\n",
       "</div>"
      ],
      "text/plain": [
       "                                                 Review  Stars\n",
       "0     ✅ Trip Verified |  Easy check in a T5. Galleri...    5.0\n",
       "1     Not Verified |  Flight delayed by an hour, it ...    8.0\n",
       "2     Not Verified | The staff are very rude and not...    2.0\n",
       "3     ✅ Trip Verified |  Good domestic flight operat...    2.0\n",
       "4     Not Verified | Failed at all basic travel fund...   10.0\n",
       "...                                                 ...    ...\n",
       "3445  BA2262 on 17th Feb 2014. I was in 4A from Jama...    4.0\n",
       "3446  Domestic Edinburgh-Gatwick. Late by 40 mins bu...    1.0\n",
       "3447  LHR-BSL-LHR A319's each way check/bag drop atT...   10.0\n",
       "3448  Flew on a 777-200 from London Heathrow to San ...    7.0\n",
       "3449  DME-LHR. B747-400. Used Avios to sample the 'n...    2.0\n",
       "\n",
       "[3450 rows x 2 columns]"
      ]
     },
     "execution_count": 140,
     "metadata": {},
     "output_type": "execute_result"
    }
   ],
   "source": [
    "df"
   ]
  },
  {
   "cell_type": "code",
   "execution_count": 141,
   "id": "ea07a923",
   "metadata": {},
   "outputs": [],
   "source": [
    "cleaned_reviews = []\n",
    "lemma = WordNetLemmatizer()\n",
    "\n",
    "for review in df.Review:\n",
    "    review = re.sub(\"[^a-zA-Z]\", \" \", review)\n",
    "    review = review.lower()\n",
    "    words = word_tokenize(review)\n",
    "    words = [word for word in words if word not in set(stopwords.words(\"english\"))]\n",
    "    lemmatized_words = [lemma.lemmatize(word) for word in words]\n",
    "    cleaned_review = \" \".join(lemmatized_words)\n",
    "    cleaned_reviews.append(cleaned_review)"
   ]
  },
  {
   "cell_type": "code",
   "execution_count": 142,
   "id": "be841eb3",
   "metadata": {},
   "outputs": [],
   "source": [
    "df['reviews'] = cleaned_reviews"
   ]
  },
  {
   "cell_type": "code",
   "execution_count": 143,
   "id": "28abaa05",
   "metadata": {},
   "outputs": [
    {
     "data": {
      "text/html": [
       "<div>\n",
       "<style scoped>\n",
       "    .dataframe tbody tr th:only-of-type {\n",
       "        vertical-align: middle;\n",
       "    }\n",
       "\n",
       "    .dataframe tbody tr th {\n",
       "        vertical-align: top;\n",
       "    }\n",
       "\n",
       "    .dataframe thead th {\n",
       "        text-align: right;\n",
       "    }\n",
       "</style>\n",
       "<table border=\"1\" class=\"dataframe\">\n",
       "  <thead>\n",
       "    <tr style=\"text-align: right;\">\n",
       "      <th></th>\n",
       "      <th>Review</th>\n",
       "      <th>Stars</th>\n",
       "      <th>reviews</th>\n",
       "    </tr>\n",
       "  </thead>\n",
       "  <tbody>\n",
       "    <tr>\n",
       "      <th>0</th>\n",
       "      <td>✅ Trip Verified |  Easy check in a T5. Galleri...</td>\n",
       "      <td>5.0</td>\n",
       "      <td>trip verified easy check gallery south north l...</td>\n",
       "    </tr>\n",
       "    <tr>\n",
       "      <th>1</th>\n",
       "      <td>Not Verified |  Flight delayed by an hour, it ...</td>\n",
       "      <td>8.0</td>\n",
       "      <td>verified flight delayed hour happens biggie u ...</td>\n",
       "    </tr>\n",
       "    <tr>\n",
       "      <th>2</th>\n",
       "      <td>Not Verified | The staff are very rude and not...</td>\n",
       "      <td>2.0</td>\n",
       "      <td>verified staff rude trained properly exception...</td>\n",
       "    </tr>\n",
       "    <tr>\n",
       "      <th>3</th>\n",
       "      <td>✅ Trip Verified |  Good domestic flight operat...</td>\n",
       "      <td>2.0</td>\n",
       "      <td>trip verified good domestic flight operated ba...</td>\n",
       "    </tr>\n",
       "    <tr>\n",
       "      <th>4</th>\n",
       "      <td>Not Verified | Failed at all basic travel fund...</td>\n",
       "      <td>10.0</td>\n",
       "      <td>verified failed basic travel fundamental fligh...</td>\n",
       "    </tr>\n",
       "    <tr>\n",
       "      <th>...</th>\n",
       "      <td>...</td>\n",
       "      <td>...</td>\n",
       "      <td>...</td>\n",
       "    </tr>\n",
       "    <tr>\n",
       "      <th>3445</th>\n",
       "      <td>BA2262 on 17th Feb 2014. I was in 4A from Jama...</td>\n",
       "      <td>4.0</td>\n",
       "      <td>ba th feb jamaica london gatwick need climb an...</td>\n",
       "    </tr>\n",
       "    <tr>\n",
       "      <th>3446</th>\n",
       "      <td>Domestic Edinburgh-Gatwick. Late by 40 mins bu...</td>\n",
       "      <td>1.0</td>\n",
       "      <td>domestic edinburgh gatwick late min unusual fl...</td>\n",
       "    </tr>\n",
       "    <tr>\n",
       "      <th>3447</th>\n",
       "      <td>LHR-BSL-LHR A319's each way check/bag drop atT...</td>\n",
       "      <td>10.0</td>\n",
       "      <td>lhr bsl lhr way check bag drop att took age ar...</td>\n",
       "    </tr>\n",
       "    <tr>\n",
       "      <th>3448</th>\n",
       "      <td>Flew on a 777-200 from London Heathrow to San ...</td>\n",
       "      <td>7.0</td>\n",
       "      <td>flew london heathrow san diego worst flight ta...</td>\n",
       "    </tr>\n",
       "    <tr>\n",
       "      <th>3449</th>\n",
       "      <td>DME-LHR. B747-400. Used Avios to sample the 'n...</td>\n",
       "      <td>2.0</td>\n",
       "      <td>dme lhr b used avios sample new first check ar...</td>\n",
       "    </tr>\n",
       "  </tbody>\n",
       "</table>\n",
       "<p>3450 rows × 3 columns</p>\n",
       "</div>"
      ],
      "text/plain": [
       "                                                 Review  Stars  \\\n",
       "0     ✅ Trip Verified |  Easy check in a T5. Galleri...    5.0   \n",
       "1     Not Verified |  Flight delayed by an hour, it ...    8.0   \n",
       "2     Not Verified | The staff are very rude and not...    2.0   \n",
       "3     ✅ Trip Verified |  Good domestic flight operat...    2.0   \n",
       "4     Not Verified | Failed at all basic travel fund...   10.0   \n",
       "...                                                 ...    ...   \n",
       "3445  BA2262 on 17th Feb 2014. I was in 4A from Jama...    4.0   \n",
       "3446  Domestic Edinburgh-Gatwick. Late by 40 mins bu...    1.0   \n",
       "3447  LHR-BSL-LHR A319's each way check/bag drop atT...   10.0   \n",
       "3448  Flew on a 777-200 from London Heathrow to San ...    7.0   \n",
       "3449  DME-LHR. B747-400. Used Avios to sample the 'n...    2.0   \n",
       "\n",
       "                                                reviews  \n",
       "0     trip verified easy check gallery south north l...  \n",
       "1     verified flight delayed hour happens biggie u ...  \n",
       "2     verified staff rude trained properly exception...  \n",
       "3     trip verified good domestic flight operated ba...  \n",
       "4     verified failed basic travel fundamental fligh...  \n",
       "...                                                 ...  \n",
       "3445  ba th feb jamaica london gatwick need climb an...  \n",
       "3446  domestic edinburgh gatwick late min unusual fl...  \n",
       "3447  lhr bsl lhr way check bag drop att took age ar...  \n",
       "3448  flew london heathrow san diego worst flight ta...  \n",
       "3449  dme lhr b used avios sample new first check ar...  \n",
       "\n",
       "[3450 rows x 3 columns]"
      ]
     },
     "execution_count": 143,
     "metadata": {},
     "output_type": "execute_result"
    }
   ],
   "source": [
    "df"
   ]
  },
  {
   "cell_type": "code",
   "execution_count": 144,
   "id": "66707ee6",
   "metadata": {},
   "outputs": [],
   "source": [
    "#Let's drop previous review column\n",
    "\n",
    "df.drop('Review',axis=1,inplace= True)"
   ]
  },
  {
   "cell_type": "code",
   "execution_count": 145,
   "id": "977e07f6",
   "metadata": {},
   "outputs": [],
   "source": [
    "\n",
    "#Let's do first column\n",
    "new_order = ['reviews'] + [col for col in df.columns if col != 'reviews']\n",
    "df = df[new_order]"
   ]
  },
  {
   "cell_type": "code",
   "execution_count": 146,
   "id": "6b145f26",
   "metadata": {},
   "outputs": [
    {
     "data": {
      "text/html": [
       "<div>\n",
       "<style scoped>\n",
       "    .dataframe tbody tr th:only-of-type {\n",
       "        vertical-align: middle;\n",
       "    }\n",
       "\n",
       "    .dataframe tbody tr th {\n",
       "        vertical-align: top;\n",
       "    }\n",
       "\n",
       "    .dataframe thead th {\n",
       "        text-align: right;\n",
       "    }\n",
       "</style>\n",
       "<table border=\"1\" class=\"dataframe\">\n",
       "  <thead>\n",
       "    <tr style=\"text-align: right;\">\n",
       "      <th></th>\n",
       "      <th>reviews</th>\n",
       "      <th>Stars</th>\n",
       "    </tr>\n",
       "  </thead>\n",
       "  <tbody>\n",
       "    <tr>\n",
       "      <th>0</th>\n",
       "      <td>trip verified easy check gallery south north l...</td>\n",
       "      <td>5.0</td>\n",
       "    </tr>\n",
       "    <tr>\n",
       "      <th>1</th>\n",
       "      <td>verified flight delayed hour happens biggie u ...</td>\n",
       "      <td>8.0</td>\n",
       "    </tr>\n",
       "    <tr>\n",
       "      <th>2</th>\n",
       "      <td>verified staff rude trained properly exception...</td>\n",
       "      <td>2.0</td>\n",
       "    </tr>\n",
       "    <tr>\n",
       "      <th>3</th>\n",
       "      <td>trip verified good domestic flight operated ba...</td>\n",
       "      <td>2.0</td>\n",
       "    </tr>\n",
       "    <tr>\n",
       "      <th>4</th>\n",
       "      <td>verified failed basic travel fundamental fligh...</td>\n",
       "      <td>10.0</td>\n",
       "    </tr>\n",
       "  </tbody>\n",
       "</table>\n",
       "</div>"
      ],
      "text/plain": [
       "                                             reviews  Stars\n",
       "0  trip verified easy check gallery south north l...    5.0\n",
       "1  verified flight delayed hour happens biggie u ...    8.0\n",
       "2  verified staff rude trained properly exception...    2.0\n",
       "3  trip verified good domestic flight operated ba...    2.0\n",
       "4  verified failed basic travel fundamental fligh...   10.0"
      ]
     },
     "execution_count": 146,
     "metadata": {},
     "output_type": "execute_result"
    }
   ],
   "source": [
    "df.head()"
   ]
  },
  {
   "cell_type": "code",
   "execution_count": 147,
   "id": "882a6923",
   "metadata": {},
   "outputs": [],
   "source": [
    "df['reviews'] = df['reviews'].str.replace('trip verified', '').str.replace('verified', '')"
   ]
  },
  {
   "cell_type": "code",
   "execution_count": 148,
   "id": "eec4c11e",
   "metadata": {},
   "outputs": [
    {
     "data": {
      "text/html": [
       "<div>\n",
       "<style scoped>\n",
       "    .dataframe tbody tr th:only-of-type {\n",
       "        vertical-align: middle;\n",
       "    }\n",
       "\n",
       "    .dataframe tbody tr th {\n",
       "        vertical-align: top;\n",
       "    }\n",
       "\n",
       "    .dataframe thead th {\n",
       "        text-align: right;\n",
       "    }\n",
       "</style>\n",
       "<table border=\"1\" class=\"dataframe\">\n",
       "  <thead>\n",
       "    <tr style=\"text-align: right;\">\n",
       "      <th></th>\n",
       "      <th>reviews</th>\n",
       "      <th>Stars</th>\n",
       "    </tr>\n",
       "  </thead>\n",
       "  <tbody>\n",
       "    <tr>\n",
       "      <th>0</th>\n",
       "      <td>easy check gallery south north lounge packed ...</td>\n",
       "      <td>5.0</td>\n",
       "    </tr>\n",
       "    <tr>\n",
       "      <th>1</th>\n",
       "      <td>flight delayed hour happens biggie u change g...</td>\n",
       "      <td>8.0</td>\n",
       "    </tr>\n",
       "    <tr>\n",
       "      <th>2</th>\n",
       "      <td>staff rude trained properly exception made ch...</td>\n",
       "      <td>2.0</td>\n",
       "    </tr>\n",
       "    <tr>\n",
       "      <th>3</th>\n",
       "      <td>good domestic flight operated ba cityflyer gr...</td>\n",
       "      <td>2.0</td>\n",
       "    </tr>\n",
       "    <tr>\n",
       "      <th>4</th>\n",
       "      <td>failed basic travel fundamental flight delaye...</td>\n",
       "      <td>10.0</td>\n",
       "    </tr>\n",
       "  </tbody>\n",
       "</table>\n",
       "</div>"
      ],
      "text/plain": [
       "                                             reviews  Stars\n",
       "0   easy check gallery south north lounge packed ...    5.0\n",
       "1   flight delayed hour happens biggie u change g...    8.0\n",
       "2   staff rude trained properly exception made ch...    2.0\n",
       "3   good domestic flight operated ba cityflyer gr...    2.0\n",
       "4   failed basic travel fundamental flight delaye...   10.0"
      ]
     },
     "execution_count": 148,
     "metadata": {},
     "output_type": "execute_result"
    }
   ],
   "source": [
    "df.head()"
   ]
  },
  {
   "cell_type": "markdown",
   "id": "65e33e24",
   "metadata": {},
   "source": [
    "### Exploratory Data Analysis"
   ]
  },
  {
   "cell_type": "code",
   "execution_count": 149,
   "id": "79dbb44c",
   "metadata": {},
   "outputs": [
    {
     "name": "stdout",
     "output_type": "stream",
     "text": [
      "<class 'pandas.core.frame.DataFrame'>\n",
      "RangeIndex: 3450 entries, 0 to 3449\n",
      "Data columns (total 2 columns):\n",
      " #   Column   Non-Null Count  Dtype  \n",
      "---  ------   --------------  -----  \n",
      " 0   reviews  3450 non-null   object \n",
      " 1   Stars    3450 non-null   float64\n",
      "dtypes: float64(1), object(1)\n",
      "memory usage: 54.0+ KB\n"
     ]
    }
   ],
   "source": [
    "df.info()"
   ]
  },
  {
   "cell_type": "code",
   "execution_count": 150,
   "id": "9c1156a3",
   "metadata": {},
   "outputs": [
    {
     "data": {
      "text/html": [
       "<div>\n",
       "<style scoped>\n",
       "    .dataframe tbody tr th:only-of-type {\n",
       "        vertical-align: middle;\n",
       "    }\n",
       "\n",
       "    .dataframe tbody tr th {\n",
       "        vertical-align: top;\n",
       "    }\n",
       "\n",
       "    .dataframe thead th {\n",
       "        text-align: right;\n",
       "    }\n",
       "</style>\n",
       "<table border=\"1\" class=\"dataframe\">\n",
       "  <thead>\n",
       "    <tr style=\"text-align: right;\">\n",
       "      <th></th>\n",
       "      <th>Stars</th>\n",
       "    </tr>\n",
       "  </thead>\n",
       "  <tbody>\n",
       "    <tr>\n",
       "      <th>count</th>\n",
       "      <td>3450.000000</td>\n",
       "    </tr>\n",
       "    <tr>\n",
       "      <th>mean</th>\n",
       "      <td>4.669565</td>\n",
       "    </tr>\n",
       "    <tr>\n",
       "      <th>std</th>\n",
       "      <td>3.132861</td>\n",
       "    </tr>\n",
       "    <tr>\n",
       "      <th>min</th>\n",
       "      <td>1.000000</td>\n",
       "    </tr>\n",
       "    <tr>\n",
       "      <th>25%</th>\n",
       "      <td>2.000000</td>\n",
       "    </tr>\n",
       "    <tr>\n",
       "      <th>50%</th>\n",
       "      <td>4.000000</td>\n",
       "    </tr>\n",
       "    <tr>\n",
       "      <th>75%</th>\n",
       "      <td>8.000000</td>\n",
       "    </tr>\n",
       "    <tr>\n",
       "      <th>max</th>\n",
       "      <td>10.000000</td>\n",
       "    </tr>\n",
       "  </tbody>\n",
       "</table>\n",
       "</div>"
      ],
      "text/plain": [
       "             Stars\n",
       "count  3450.000000\n",
       "mean      4.669565\n",
       "std       3.132861\n",
       "min       1.000000\n",
       "25%       2.000000\n",
       "50%       4.000000\n",
       "75%       8.000000\n",
       "max      10.000000"
      ]
     },
     "execution_count": 150,
     "metadata": {},
     "output_type": "execute_result"
    }
   ],
   "source": [
    "df.describe()"
   ]
  },
  {
   "cell_type": "markdown",
   "id": "95842e7e",
   "metadata": {},
   "source": [
    "###### Average point of star rating column"
   ]
  },
  {
   "cell_type": "code",
   "execution_count": 151,
   "id": "75ca0169",
   "metadata": {},
   "outputs": [
    {
     "name": "stdout",
     "output_type": "stream",
     "text": [
      "4.67\n"
     ]
    }
   ],
   "source": [
    "print(round(df['Stars'].mean(), 2))"
   ]
  },
  {
   "cell_type": "markdown",
   "id": "a9b8653a",
   "metadata": {},
   "source": [
    "###### What star did customers give the most?"
   ]
  },
  {
   "cell_type": "code",
   "execution_count": 152,
   "id": "63dbde9f",
   "metadata": {},
   "outputs": [
    {
     "data": {
      "text/plain": [
       "<AxesSubplot:>"
      ]
     },
     "execution_count": 152,
     "metadata": {},
     "output_type": "execute_result"
    },
    {
     "data": {
      "image/png": "[encoded data removed]",
      "text/plain": [
       "<Figure size 720x720 with 1 Axes>"
      ]
     },
     "metadata": {
      "needs_background": "light"
     },
     "output_type": "display_data"
    }
   ],
   "source": [
    "df.Stars.value_counts().plot(kind = 'bar')"
   ]
  },
  {
   "cell_type": "code",
   "execution_count": 153,
   "id": "96dd2248",
   "metadata": {},
   "outputs": [
    {
     "data": {
      "text/plain": [
       "0     easy check gallery south north lounge packed ...\n",
       "1     flight delayed hour happens biggie u change g...\n",
       "2     staff rude trained properly exception made ch...\n",
       "3     good domestic flight operated ba cityflyer gr...\n",
       "4     failed basic travel fundamental flight delaye...\n",
       "Name: reviews, dtype: object"
      ]
     },
     "execution_count": 153,
     "metadata": {},
     "output_type": "execute_result"
    }
   ],
   "source": [
    "df.reviews.head()"
   ]
  },
  {
   "cell_type": "code",
   "execution_count": 154,
   "id": "13ad653a",
   "metadata": {},
   "outputs": [
    {
     "data": {
      "image/png": "[encoded data removed]",
      "text/plain": [
       "<Figure size 720x432 with 1 Axes>"
      ]
     },
     "metadata": {
      "needs_background": "light"
     },
     "output_type": "display_data"
    }
   ],
   "source": [
    "from collections import Counter\n",
    "from sklearn.feature_extraction import text\n",
    "\n",
    "# Combine all cleaned_reviews into a single string\n",
    "reviews = \" \".join(df['reviews'])\n",
    "\n",
    "# Set stopwords\n",
    "custom_stopwords = text.ENGLISH_STOP_WORDS.union([\"would\",\"ba\",\"flight\", \"lhr\",\"british\",\"airway\", \"airline\",\"plane\", \"told\",\"also\",\"passenger\",\"wife\"\n",
    "                 \"london\", \"heathrow\", \"aircraft\", \"could\",\"even\", \"would\"])\n",
    "\n",
    "# Preprocess the reviews\n",
    "words = reviews.split()\n",
    "filtered_words = [word for word in words if word not in custom_stopwords]\n",
    "\n",
    "# Get the most common 25 words\n",
    "word_counter = Counter(filtered_words)\n",
    "most_common_words = word_counter.most_common(25)\n",
    "\n",
    "# Extract words and their frequencies for visualization\n",
    "words, frequencies = zip(*most_common_words)\n",
    "\n",
    "# Create a bar chart\n",
    "plt.figure(figsize=(10, 6))\n",
    "plt.bar(words, frequencies)\n",
    "plt.xlabel('Words')\n",
    "plt.ylabel('Frequency')\n",
    "plt.title('Most Common 25 Words')\n",
    "plt.xticks(rotation=45, ha='right')\n",
    "plt.tight_layout()\n",
    "plt.show()"
   ]
  },
  {
   "cell_type": "code",
   "execution_count": 155,
   "id": "c4119a9d",
   "metadata": {},
   "outputs": [
    {
     "data": {
      "image/png": "[encoded data removed]",
      "text/plain": [
       "<Figure size 864x360 with 1 Axes>"
      ]
     },
     "metadata": {
      "needs_background": "light"
     },
     "output_type": "display_data"
    }
   ],
   "source": [
    "#Import libararies\n",
    "from nltk.corpus import stopwords\n",
    "from sklearn.feature_extraction import text\n",
    "from nltk import FreqDist\n",
    "from nltk.util import ngrams\n",
    "from collections import Counter\n",
    "from nltk.util import ngrams\n",
    "\n",
    "\n",
    "# Combine all cleaned_reviews into a single string\n",
    "reviews = \" \".join(df['reviews'])\n",
    "\n",
    "# Set stopwords\n",
    "custom_stopwords = text.ENGLISH_STOP_WORDS.union([\"would\",\"ba\",\"flight\", \"lhr\",\"british\",\"airway\", \"airline\",\"plane\", \"told\",\"also\",\"passenger\",\"wife\"\n",
    "                 \"london\", \"heathrow\", \"aircraft\", \"could\",\"even\", \"would\"])\n",
    "\n",
    "# Preprocess the reviews\n",
    "words = reviews.lower().split()\n",
    "filtered_words = [word for word in words if word not in custom_stopwords]\n",
    "\n",
    "# N-gram analysis for 4-grams\n",
    "n = 4  # Set n to 4 for 4-grams\n",
    "n_grams = list(ngrams(filtered_words, n))\n",
    "n_gram_counter = Counter(n_grams)\n",
    "most_common_n_grams = n_gram_counter.most_common(25)\n",
    "\n",
    "# Extract N-grams and their frequencies for visualization\n",
    "n_gram_strings = [' '.join(gram) for gram, _ in most_common_n_grams]\n",
    "n_gram_frequencies = [count for _, count in most_common_n_grams]\n",
    "\n",
    "# Create a bar chart for 4-gram frequency\n",
    "plt.figure(figsize=(12, 5))\n",
    "plt.bar(n_gram_strings, n_gram_frequencies)\n",
    "plt.xlabel(f'{n}-grams')\n",
    "plt.ylabel('Frequency')\n",
    "plt.title(f'Most Common 25 {n}-grams')\n",
    "plt.xticks(rotation=45, ha='right')\n",
    "plt.tight_layout()\n",
    "plt.show()"
   ]
  },
  {
   "cell_type": "markdown",
   "id": "99787a4b",
   "metadata": {},
   "source": [
    "### Let's rate the reviews based on star_rating column"
   ]
  },
  {
   "cell_type": "markdown",
   "id": "5e933534",
   "metadata": {},
   "source": [
    "Bad reviews : 1-4 stars\n",
    "\n",
    "Good reviews : 5-7 stars\n",
    "\n",
    "Great reviews : 8-10 stars"
   ]
  },
  {
   "cell_type": "code",
   "execution_count": 159,
   "id": "23eb3ff0",
   "metadata": {},
   "outputs": [],
   "source": [
    "# Define a function to get frequency distribution of n-grams\n",
    "def get_freq_dist_ngrams(text, n, top_n):\n",
    "    words = word_tokenize(text)\n",
    "    n_grams = ngrams(words, n)\n",
    "    ngram_freq = Counter(n_grams)\n",
    "    return ngram_freq.most_common(top_n)"
   ]
  },
  {
   "cell_type": "code",
   "execution_count": 160,
   "id": "fad85de6",
   "metadata": {},
   "outputs": [],
   "source": [
    "bad_reviews = df[df.Stars.isin([1, 2, 3, 4])]\n",
    "good_reviews = df[df.Stars.isin([5, 6,7])]\n",
    "great_reviews = df[df.Stars.isin([8, 9, 10])]\n",
    "\n",
    "reviews_1_4 = \" \".join(bad_reviews['reviews'])\n",
    "reviews_5_6 = \" \".join(good_reviews['reviews'])\n",
    "reviews_7_10 = \" \".join(great_reviews['reviews'])\n",
    "\n",
    "# Split the text of all reviews into a list of words for each rating group\n",
    "words_1_4 = reviews_1_4.split(\" \")\n",
    "words_5_6 = reviews_5_6.split(\" \")\n",
    "words_7_10 = reviews_7_10.split(\" \")"
   ]
  },
  {
   "cell_type": "markdown",
   "id": "d1c21476",
   "metadata": {},
   "source": [
    "##### Reviews for 1-4 star ratings"
   ]
  },
  {
   "cell_type": "code",
   "execution_count": 185,
   "id": "922a828e",
   "metadata": {},
   "outputs": [
    {
     "data": {
      "image/png": "[encoded data removed]",
      "text/plain": [
       "<Figure size 864x1296 with 3 Axes>"
      ]
     },
     "metadata": {
      "needs_background": "light"
     },
     "output_type": "display_data"
    }
   ],
   "source": [
    "import matplotlib.pyplot as plt\n",
    "fig, axes = plt.subplots(3, 1, figsize=(12, 18))\n",
    "\n",
    "# Get the top 15 4-grams for ratings 1-4\n",
    "top_ngrams_1_4 = get_freq_dist_ngrams(reviews_1_4, n=4, top_n=15)\n",
    "ngram_labels = [\" \".join(ngram) for ngram, _ in top_ngrams_1_4]\n",
    "ngram_frequencies = [freq for _, freq in top_ngrams_1_4]\n",
    "axes[0].bar(ngram_labels, ngram_frequencies, color='blue')\n",
    "axes[0].set_xlabel('4-grams')\n",
    "axes[0].set_ylabel('Frequency')\n",
    "axes[0].set_title('Top 15 4-grams for Star Ratings 1-4')\n",
    "axes[0].tick_params(rotation=45, axis='x', labelrotation=45)\n",
    "\n",
    "# Get the top 15 4-grams for ratings 5-7\n",
    "top_ngrams_5_6 = get_freq_dist_ngrams(reviews_5_6, n=4, top_n=15)\n",
    "ngram_labels = [\" \".join(ngram) for ngram, _ in top_ngrams_5_6]\n",
    "ngram_frequencies = [freq for _, freq in top_ngrams_5_6]\n",
    "axes[1].bar(ngram_labels, ngram_frequencies, color='red')\n",
    "axes[1].set_xlabel('4-grams')\n",
    "axes[1].set_ylabel('Frequency')\n",
    "axes[1].set_title('Top 15 4-grams for Star Ratings 5-7')\n",
    "axes[1].tick_params(rotation=45, axis='x', labelrotation=45)\n",
    "\n",
    "# Get the top 15 4-grams for ratings 8-10\n",
    "top_ngrams_7_10 = get_freq_dist_ngrams(reviews_7_10, n=4, top_n=15)\n",
    "ngram_labels = [\" \".join(ngram) for ngram, _ in top_ngrams_7_10]\n",
    "ngram_frequencies = [freq for _, freq in top_ngrams_7_10]\n",
    "axes[2].bar(ngram_labels, ngram_frequencies, color='green')\n",
    "axes[2].set_xlabel('4-grams')\n",
    "axes[2].set_ylabel('Frequency')\n",
    "axes[2].set_title('Top 15 4-grams for Star Ratings 8-10')\n",
    "axes[2].tick_params(rotation=45, axis='x', labelrotation=45)\n",
    "\n",
    "plt.tight_layout()\n",
    "plt.show()\n"
   ]
  },
  {
   "cell_type": "code",
   "execution_count": 175,
   "id": "ff5f4e61",
   "metadata": {},
   "outputs": [
    {
     "name": "stdout",
     "output_type": "stream",
     "text": [
      "2327 number of reviews between -0.2 and 0.2 polarity score\n",
      "1354 number of reviews between -0.1 and 0.1 polarity score\n"
     ]
    }
   ],
   "source": [
    "from textblob import TextBlob\n",
    "\n",
    "# Create a function to perform sentiment analysis\n",
    "def analyze_sentiment(text):\n",
    "    analysis = TextBlob(text)\n",
    "    return analysis.sentiment.polarity\n",
    "\n",
    "# Apply sentiment analysis function to each review and add polarity column\n",
    "df['polarity'] = df['reviews'].apply(analyze_sentiment)\n",
    "\n",
    "# Count positive comments within specific polarity score ranges\n",
    "positive_comments_range_1 = df[(df['polarity'] > -0.2) & (df['polarity'] < 0.2)].shape[0]\n",
    "positive_comments_range_2 = df[(df['polarity'] > -0.1) & (df['polarity'] < 0.1)].shape[0]\n",
    "\n",
    "print(f\"{positive_comments_range_1} number of reviews between -0.2 and 0.2 polarity score\")\n",
    "print(f\"{positive_comments_range_2} number of reviews between -0.1 and 0.1 polarity score\")"
   ]
  },
  {
   "cell_type": "markdown",
   "id": "da063f93",
   "metadata": {},
   "source": [
    "The polarity score is allocated on a scale spanning from -1 to 1. As the score nears -1, it signifies a negative review, while the converse is true for positive values. By establishing a threshold, reviews with a polarity exceeding 0.2 are categorized as positive, and those below -0.2 are tagged as negative. This results in 2331 reviews classified as neutral. To further enhance the precision of this set of neutral reviews, let's apply a narrower threshold of 0.1.\n",
    "\n",
    "We will now explore an alternate strategy to classify reviews as positive or negative. For this purpose, we will employ the VADER algorithm from the NLTK library."
   ]
  },
  {
   "cell_type": "code",
   "execution_count": 176,
   "id": "9eab3ca7",
   "metadata": {},
   "outputs": [],
   "source": [
    "from nltk.sentiment.vader import SentimentIntensityAnalyzer\n",
    "\n",
    "# Initialize the VADER sentiment intensity analyzer\n",
    "sia = SentimentIntensityAnalyzer()\n",
    "\n",
    "# Create a function to get sentiment label\n",
    "def get_sentiment_label(score):\n",
    "    if score > 0:\n",
    "        return 'Positive'\n",
    "    elif score < 0:\n",
    "        return 'Negative'\n",
    "    else:\n",
    "        return 'Neutral'\n",
    "\n",
    "# Apply VADER sentiment analysis and get sentiment label for each review\n",
    "df['vader_scores'] = df['reviews'].apply(lambda text: sia.polarity_scores(text)['compound'])\n",
    "df['sentiment_label'] = df['vader_scores'].apply(get_sentiment_label)"
   ]
  },
  {
   "cell_type": "code",
   "execution_count": 177,
   "id": "1e2d185b",
   "metadata": {},
   "outputs": [
    {
     "name": "stdout",
     "output_type": "stream",
     "text": [
      "Positive    2306\n",
      "Negative    1125\n",
      "Neutral       19\n",
      "Name: sentiment_label, dtype: int64\n"
     ]
    }
   ],
   "source": [
    "#Let's count positive and negative values\n",
    "sentiment_counts = df.sentiment_label.value_counts()\n",
    "print(sentiment_counts)"
   ]
  },
  {
   "cell_type": "markdown",
   "id": "2500ff03",
   "metadata": {},
   "source": [
    "### Topic Modelling (LDA)\n"
   ]
  },
  {
   "cell_type": "markdown",
   "id": "7f5668cf",
   "metadata": {},
   "source": [
    "\n",
    "Our reviews have undergone preprocessing and cleaning procedures. Nonetheless, to streamline the process of topic modeling, it's necessary to construct word embeddings or a matrix of words. To accomplish this task, we will make use of the count vectorizer technique provided by the sklearn library."
   ]
  },
  {
   "cell_type": "code",
   "execution_count": 178,
   "id": "5a4386b1",
   "metadata": {},
   "outputs": [],
   "source": [
    "from sklearn.feature_extraction.text import CountVectorizer\n",
    "from sklearn.decomposition import LatentDirichletAllocation\n",
    "\n",
    "# Create a CountVectorizer to convert text data to document-term matrix\n",
    "vectorizer = CountVectorizer(max_features=1000, stop_words='english')\n",
    "dtm = vectorizer.fit_transform(df['reviews'])\n",
    "\n",
    "# Apply Latent Dirichlet Allocation (LDA) model\n",
    "num_topics = 10  # Number of topics to identify\n",
    "lda = LatentDirichletAllocation(n_components=num_topics, random_state=0)\n",
    "lda.fit(dtm)\n",
    "\n",
    "# Create a DataFrame to store topic information\n",
    "topic_df = pd.DataFrame(columns=['Topic', 'Top Words'])\n",
    "\n",
    "# Print topics and their associated words\n",
    "feature_names = vectorizer.get_feature_names_out()\n",
    "for topic_idx, topic in enumerate(lda.components_):\n",
    "    top_words_idx = topic.argsort()[-10:][::-1]\n",
    "    top_words = [feature_names[i] for i in top_words_idx]\n",
    "    topic_df.loc[topic_idx] = [f\"Topic {topic_idx}\", ', '.join(top_words)]\n",
    "\n",
    "# Associate each document with its most probable topic\n",
    "topic_probabilities = lda.transform(dtm)\n",
    "df['topic'] = topic_probabilities.argmax(axis=1)"
   ]
  },
  {
   "cell_type": "code",
   "execution_count": 179,
   "id": "31019237",
   "metadata": {},
   "outputs": [
    {
     "data": {
      "text/html": [
       "<div>\n",
       "<style scoped>\n",
       "    .dataframe tbody tr th:only-of-type {\n",
       "        vertical-align: middle;\n",
       "    }\n",
       "\n",
       "    .dataframe tbody tr th {\n",
       "        vertical-align: top;\n",
       "    }\n",
       "\n",
       "    .dataframe thead th {\n",
       "        text-align: right;\n",
       "    }\n",
       "</style>\n",
       "<table border=\"1\" class=\"dataframe\">\n",
       "  <thead>\n",
       "    <tr style=\"text-align: right;\">\n",
       "      <th></th>\n",
       "      <th>Topic</th>\n",
       "      <th>Top Words</th>\n",
       "    </tr>\n",
       "  </thead>\n",
       "  <tbody>\n",
       "    <tr>\n",
       "      <th>0</th>\n",
       "      <td>Topic 0</td>\n",
       "      <td>british, airway, flight, aircraft, ba, service...</td>\n",
       "    </tr>\n",
       "    <tr>\n",
       "      <th>1</th>\n",
       "      <td>Topic 1</td>\n",
       "      <td>seat, check, boarding, row, club, ba, lounge, ...</td>\n",
       "    </tr>\n",
       "    <tr>\n",
       "      <th>2</th>\n",
       "      <td>Topic 2</td>\n",
       "      <td>flight, time, crew, good, cabin, heathrow, ser...</td>\n",
       "    </tr>\n",
       "    <tr>\n",
       "      <th>3</th>\n",
       "      <td>Topic 3</td>\n",
       "      <td>flight, hour, ba, bag, staff, london, luggage,...</td>\n",
       "    </tr>\n",
       "    <tr>\n",
       "      <th>4</th>\n",
       "      <td>Topic 4</td>\n",
       "      <td>good, ba, club, seat, lounge, food, flight, se...</td>\n",
       "    </tr>\n",
       "  </tbody>\n",
       "</table>\n",
       "</div>"
      ],
      "text/plain": [
       "     Topic                                          Top Words\n",
       "0  Topic 0  british, airway, flight, aircraft, ba, service...\n",
       "1  Topic 1  seat, check, boarding, row, club, ba, lounge, ...\n",
       "2  Topic 2  flight, time, crew, good, cabin, heathrow, ser...\n",
       "3  Topic 3  flight, hour, ba, bag, staff, london, luggage,...\n",
       "4  Topic 4  good, ba, club, seat, lounge, food, flight, se..."
      ]
     },
     "execution_count": 179,
     "metadata": {},
     "output_type": "execute_result"
    }
   ],
   "source": [
    "topic_df.head()"
   ]
  },
  {
   "cell_type": "markdown",
   "id": "42f10aae",
   "metadata": {},
   "source": [
    "### Topic Modeling (NMF)"
   ]
  },
  {
   "cell_type": "code",
   "execution_count": 180,
   "id": "664fe60e",
   "metadata": {},
   "outputs": [
    {
     "name": "stderr",
     "output_type": "stream",
     "text": [
      "C:\\anaconda3\\lib\\site-packages\\sklearn\\decomposition\\_nmf.py:289: FutureWarning: The 'init' value, when 'init=None' and n_components is less than n_samples and n_features, will be changed from 'nndsvd' to 'nndsvda' in 1.1 (renaming of 0.26).\n",
      "  warnings.warn(\n"
     ]
    }
   ],
   "source": [
    "#Import libraries\n",
    "from sklearn.feature_extraction.text import CountVectorizer\n",
    "from sklearn.decomposition import NMF\n",
    "\n",
    "\n",
    "# Create a CountVectorizer to convert text data to document-term matrix\n",
    "vectorizer = CountVectorizer(max_features=1000, stop_words='english')\n",
    "dtm = vectorizer.fit_transform(df['reviews'])\n",
    "\n",
    "# Apply Non-Negative Matrix Factorization (NMF) model\n",
    "number_of_topics = 3\n",
    "nmf_model = NMF(n_components=number_of_topics, random_state=0)\n",
    "nmf_model.fit(dtm)\n",
    "\n",
    "# Get the feature names (words) from the CountVectorizer\n",
    "feature_names = vectorizer.get_feature_names_out()\n",
    "\n",
    "# Initialize dictionaries to store topic words and weights\n",
    "topic_words = {}\n",
    "topic_weights = {}\n",
    "\n",
    "# Populate dictionaries with topic words and weights\n",
    "for topic_idx, topic in enumerate(nmf_model.components_):\n",
    "    top_words_indices = topic.argsort()[:-10 - 1:-1]\n",
    "    top_words = [feature_names[i] for i in top_words_indices]\n",
    "    top_weights = [round(topic[i], 1) for i in top_words_indices]\n",
    "    \n",
    "    topic_words[f\"Topic {topic_idx} words\"] = top_words\n",
    "    topic_weights[f\"Topic {topic_idx} weights\"] = top_weights\n",
    "\n",
    "# Create DataFrames for topic words and topic weights\n",
    "topic_words_df = pd.DataFrame(topic_words)\n",
    "topic_weights_df = pd.DataFrame(topic_weights)\n",
    "\n",
    "# Combine both DataFrames\n",
    "topics_and_weights_df = pd.concat([topic_words_df, topic_weights_df], axis=1)"
   ]
  },
  {
   "cell_type": "code",
   "execution_count": 182,
   "id": "107a55e6",
   "metadata": {},
   "outputs": [
    {
     "data": {
      "text/html": [
       "<div>\n",
       "<style scoped>\n",
       "    .dataframe tbody tr th:only-of-type {\n",
       "        vertical-align: middle;\n",
       "    }\n",
       "\n",
       "    .dataframe tbody tr th {\n",
       "        vertical-align: top;\n",
       "    }\n",
       "\n",
       "    .dataframe thead th {\n",
       "        text-align: right;\n",
       "    }\n",
       "</style>\n",
       "<table border=\"1\" class=\"dataframe\">\n",
       "  <thead>\n",
       "    <tr style=\"text-align: right;\">\n",
       "      <th></th>\n",
       "      <th>Topic 0 words</th>\n",
       "      <th>Topic 1 words</th>\n",
       "      <th>Topic 2 words</th>\n",
       "      <th>Topic 0 weights</th>\n",
       "      <th>Topic 1 weights</th>\n",
       "      <th>Topic 2 weights</th>\n",
       "    </tr>\n",
       "  </thead>\n",
       "  <tbody>\n",
       "    <tr>\n",
       "      <th>0</th>\n",
       "      <td>flight</td>\n",
       "      <td>seat</td>\n",
       "      <td>ba</td>\n",
       "      <td>12.8</td>\n",
       "      <td>8.6</td>\n",
       "      <td>10.6</td>\n",
       "    </tr>\n",
       "    <tr>\n",
       "      <th>1</th>\n",
       "      <td>hour</td>\n",
       "      <td>class</td>\n",
       "      <td>service</td>\n",
       "      <td>2.6</td>\n",
       "      <td>2.9</td>\n",
       "      <td>2.4</td>\n",
       "    </tr>\n",
       "    <tr>\n",
       "      <th>2</th>\n",
       "      <td>airway</td>\n",
       "      <td>cabin</td>\n",
       "      <td>airline</td>\n",
       "      <td>2.1</td>\n",
       "      <td>2.5</td>\n",
       "      <td>1.9</td>\n",
       "    </tr>\n",
       "    <tr>\n",
       "      <th>3</th>\n",
       "      <td>british</td>\n",
       "      <td>food</td>\n",
       "      <td>staff</td>\n",
       "      <td>2.1</td>\n",
       "      <td>2.3</td>\n",
       "      <td>1.3</td>\n",
       "    </tr>\n",
       "    <tr>\n",
       "      <th>4</th>\n",
       "      <td>time</td>\n",
       "      <td>good</td>\n",
       "      <td>customer</td>\n",
       "      <td>2.1</td>\n",
       "      <td>2.3</td>\n",
       "      <td>1.1</td>\n",
       "    </tr>\n",
       "    <tr>\n",
       "      <th>5</th>\n",
       "      <td>london</td>\n",
       "      <td>business</td>\n",
       "      <td>lounge</td>\n",
       "      <td>2.1</td>\n",
       "      <td>2.2</td>\n",
       "      <td>1.1</td>\n",
       "    </tr>\n",
       "    <tr>\n",
       "      <th>6</th>\n",
       "      <td>heathrow</td>\n",
       "      <td>crew</td>\n",
       "      <td>time</td>\n",
       "      <td>1.3</td>\n",
       "      <td>2.2</td>\n",
       "      <td>1.0</td>\n",
       "    </tr>\n",
       "    <tr>\n",
       "      <th>7</th>\n",
       "      <td>service</td>\n",
       "      <td>economy</td>\n",
       "      <td>year</td>\n",
       "      <td>1.3</td>\n",
       "      <td>2.1</td>\n",
       "      <td>1.0</td>\n",
       "    </tr>\n",
       "    <tr>\n",
       "      <th>8</th>\n",
       "      <td>day</td>\n",
       "      <td>service</td>\n",
       "      <td>passenger</td>\n",
       "      <td>1.0</td>\n",
       "      <td>1.7</td>\n",
       "      <td>0.9</td>\n",
       "    </tr>\n",
       "    <tr>\n",
       "      <th>9</th>\n",
       "      <td>told</td>\n",
       "      <td>club</td>\n",
       "      <td>fly</td>\n",
       "      <td>1.0</td>\n",
       "      <td>1.4</td>\n",
       "      <td>0.9</td>\n",
       "    </tr>\n",
       "  </tbody>\n",
       "</table>\n",
       "</div>"
      ],
      "text/plain": [
       "  Topic 0 words Topic 1 words Topic 2 words  Topic 0 weights  Topic 1 weights  \\\n",
       "0        flight          seat            ba             12.8              8.6   \n",
       "1          hour         class       service              2.6              2.9   \n",
       "2        airway         cabin       airline              2.1              2.5   \n",
       "3       british          food         staff              2.1              2.3   \n",
       "4          time          good      customer              2.1              2.3   \n",
       "5        london      business        lounge              2.1              2.2   \n",
       "6      heathrow          crew          time              1.3              2.2   \n",
       "7       service       economy          year              1.3              2.1   \n",
       "8           day       service     passenger              1.0              1.7   \n",
       "9          told          club           fly              1.0              1.4   \n",
       "\n",
       "   Topic 2 weights  \n",
       "0             10.6  \n",
       "1              2.4  \n",
       "2              1.9  \n",
       "3              1.3  \n",
       "4              1.1  \n",
       "5              1.1  \n",
       "6              1.0  \n",
       "7              1.0  \n",
       "8              0.9  \n",
       "9              0.9  "
      ]
     },
     "execution_count": 182,
     "metadata": {},
     "output_type": "execute_result"
    }
   ],
   "source": [
    "\n",
    "topics_and_weights_df"
   ]
  },
  {
   "cell_type": "code",
   "execution_count": null,
   "id": "239617df",
   "metadata": {},
   "outputs": [],
   "source": []
  }
 ],
 "metadata": {
  "kernelspec": {
   "display_name": "Python 3 (ipykernel)",
   "language": "python",
   "name": "python3"
  },
  "language_info": {
   "codemirror_mode": {
    "name": "ipython",
    "version": 3
   },
   "file_extension": ".py",
   "mimetype": "text/x-python",
   "name": "python",
   "nbconvert_exporter": "python",
   "pygments_lexer": "ipython3",
   "version": "3.9.12"
  }
 },
 "nbformat": 4,
 "nbformat_minor": 5
}
