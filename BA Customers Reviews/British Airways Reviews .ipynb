{
 "cells": [
  {
   "cell_type": "code",
   "execution_count": 32,
   "id": "d2aba547",
   "metadata": {},
   "outputs": [],
   "source": [
    "import pandas as pd\n",
    "import numpy as np\n",
    "import matplotlib.pyplot as plt\n",
    "import seaborn as sns \n",
    "import nltk\n",
    "from nltk.corpus import stopwords\n",
    "from nltk.tokenize import word_tokenize\n",
    "from nltk.stem import WordNetLemmatizer\n",
    "from wordcloud import WordCloud\n",
    "from nltk.corpus import stopwords\n",
    "import re"
   ]
  },
  {
   "cell_type": "code",
   "execution_count": 33,
   "id": "937d76d4",
   "metadata": {},
   "outputs": [
    {
     "data": {
      "text/html": [
       "<div>\n",
       "<style scoped>\n",
       "    .dataframe tbody tr th:only-of-type {\n",
       "        vertical-align: middle;\n",
       "    }\n",
       "\n",
       "    .dataframe tbody tr th {\n",
       "        vertical-align: top;\n",
       "    }\n",
       "\n",
       "    .dataframe thead th {\n",
       "        text-align: right;\n",
       "    }\n",
       "</style>\n",
       "<table border=\"1\" class=\"dataframe\">\n",
       "  <thead>\n",
       "    <tr style=\"text-align: right;\">\n",
       "      <th></th>\n",
       "      <th>Unnamed: 0</th>\n",
       "      <th>Review</th>\n",
       "      <th>Stars</th>\n",
       "    </tr>\n",
       "  </thead>\n",
       "  <tbody>\n",
       "    <tr>\n",
       "      <th>0</th>\n",
       "      <td>0</td>\n",
       "      <td>✅ Trip Verified |  Easy check in a T5. Galleri...</td>\n",
       "      <td>\\n\\t\\t\\t\\t\\t\\t\\t\\t\\t\\t\\t\\t\\t5</td>\n",
       "    </tr>\n",
       "    <tr>\n",
       "      <th>1</th>\n",
       "      <td>1</td>\n",
       "      <td>Not Verified |  Flight delayed by an hour, it ...</td>\n",
       "      <td>8</td>\n",
       "    </tr>\n",
       "    <tr>\n",
       "      <th>2</th>\n",
       "      <td>2</td>\n",
       "      <td>Not Verified | The staff are very rude and not...</td>\n",
       "      <td>2</td>\n",
       "    </tr>\n",
       "    <tr>\n",
       "      <th>3</th>\n",
       "      <td>3</td>\n",
       "      <td>✅ Trip Verified |  Good domestic flight operat...</td>\n",
       "      <td>2</td>\n",
       "    </tr>\n",
       "    <tr>\n",
       "      <th>4</th>\n",
       "      <td>4</td>\n",
       "      <td>Not Verified | Failed at all basic travel fund...</td>\n",
       "      <td>10</td>\n",
       "    </tr>\n",
       "  </tbody>\n",
       "</table>\n",
       "</div>"
      ],
      "text/plain": [
       "   Unnamed: 0                                             Review  \\\n",
       "0           0  ✅ Trip Verified |  Easy check in a T5. Galleri...   \n",
       "1           1  Not Verified |  Flight delayed by an hour, it ...   \n",
       "2           2  Not Verified | The staff are very rude and not...   \n",
       "3           3  ✅ Trip Verified |  Good domestic flight operat...   \n",
       "4           4  Not Verified | Failed at all basic travel fund...   \n",
       "\n",
       "                           Stars  \n",
       "0  \\n\\t\\t\\t\\t\\t\\t\\t\\t\\t\\t\\t\\t\\t5  \n",
       "1                              8  \n",
       "2                              2  \n",
       "3                              2  \n",
       "4                             10  "
      ]
     },
     "execution_count": 33,
     "metadata": {},
     "output_type": "execute_result"
    }
   ],
   "source": [
    "#Airline and Airport Customer Reviews Dataset\n",
    "df = pd.read_csv(\"C:\\\\Users\\\\Galaxy Computers\\\\Desktop\\\\BA_reviews.csv\")\n",
    "df.head()"
   ]
  },
  {
   "cell_type": "code",
   "execution_count": 34,
   "id": "4dfcae23",
   "metadata": {},
   "outputs": [
    {
     "data": {
      "text/plain": [
       "3"
      ]
     },
     "execution_count": 34,
     "metadata": {},
     "output_type": "execute_result"
    }
   ],
   "source": [
    "len(df.columns)"
   ]
  },
  {
   "cell_type": "code",
   "execution_count": 35,
   "id": "9dec4219",
   "metadata": {},
   "outputs": [
    {
     "data": {
      "text/html": [
       "<div>\n",
       "<style scoped>\n",
       "    .dataframe tbody tr th:only-of-type {\n",
       "        vertical-align: middle;\n",
       "    }\n",
       "\n",
       "    .dataframe tbody tr th {\n",
       "        vertical-align: top;\n",
       "    }\n",
       "\n",
       "    .dataframe thead th {\n",
       "        text-align: right;\n",
       "    }\n",
       "</style>\n",
       "<table border=\"1\" class=\"dataframe\">\n",
       "  <thead>\n",
       "    <tr style=\"text-align: right;\">\n",
       "      <th></th>\n",
       "      <th>Unnamed: 0</th>\n",
       "      <th>Review</th>\n",
       "      <th>Stars</th>\n",
       "    </tr>\n",
       "  </thead>\n",
       "  <tbody>\n",
       "    <tr>\n",
       "      <th>3445</th>\n",
       "      <td>3445</td>\n",
       "      <td>BA2262 on 17th Feb 2014. I was in 4A from Jama...</td>\n",
       "      <td>4</td>\n",
       "    </tr>\n",
       "    <tr>\n",
       "      <th>3446</th>\n",
       "      <td>3446</td>\n",
       "      <td>Domestic Edinburgh-Gatwick. Late by 40 mins bu...</td>\n",
       "      <td>1</td>\n",
       "    </tr>\n",
       "    <tr>\n",
       "      <th>3447</th>\n",
       "      <td>3447</td>\n",
       "      <td>LHR-BSL-LHR A319's each way check/bag drop atT...</td>\n",
       "      <td>10</td>\n",
       "    </tr>\n",
       "    <tr>\n",
       "      <th>3448</th>\n",
       "      <td>3448</td>\n",
       "      <td>Flew on a 777-200 from London Heathrow to San ...</td>\n",
       "      <td>7</td>\n",
       "    </tr>\n",
       "    <tr>\n",
       "      <th>3449</th>\n",
       "      <td>3449</td>\n",
       "      <td>DME-LHR. B747-400. Used Avios to sample the 'n...</td>\n",
       "      <td>2</td>\n",
       "    </tr>\n",
       "  </tbody>\n",
       "</table>\n",
       "</div>"
      ],
      "text/plain": [
       "      Unnamed: 0                                             Review Stars\n",
       "3445        3445  BA2262 on 17th Feb 2014. I was in 4A from Jama...     4\n",
       "3446        3446  Domestic Edinburgh-Gatwick. Late by 40 mins bu...     1\n",
       "3447        3447  LHR-BSL-LHR A319's each way check/bag drop atT...    10\n",
       "3448        3448  Flew on a 777-200 from London Heathrow to San ...     7\n",
       "3449        3449  DME-LHR. B747-400. Used Avios to sample the 'n...     2"
      ]
     },
     "execution_count": 35,
     "metadata": {},
     "output_type": "execute_result"
    }
   ],
   "source": [
    "df.tail()"
   ]
  },
  {
   "cell_type": "markdown",
   "id": "42cb30fb",
   "metadata": {},
   "source": [
    "## Data Cleaning"
   ]
  },
  {
   "cell_type": "code",
   "execution_count": 36,
   "id": "f5b92a37",
   "metadata": {},
   "outputs": [],
   "source": [
    "df.drop(columns='Unnamed: 0', inplace=True)"
   ]
  },
  {
   "cell_type": "markdown",
   "id": "1c661ebe",
   "metadata": {},
   "source": [
    "##### Fill None values with the mean of the column"
   ]
  },
  {
   "cell_type": "code",
   "execution_count": 37,
   "id": "552f71f3",
   "metadata": {},
   "outputs": [
    {
     "data": {
      "text/plain": [
       "1                                804\n",
       "2                                400\n",
       "3                                380\n",
       "8                                334\n",
       "10                               285\n",
       "9                                283\n",
       "7                                280\n",
       "4                                234\n",
       "5                                211\n",
       "6                                167\n",
       "\\n\\t\\t\\t\\t\\t\\t\\t\\t\\t\\t\\t\\t\\t5     68\n",
       "None                               4\n",
       "Name: Stars, dtype: int64"
      ]
     },
     "execution_count": 37,
     "metadata": {},
     "output_type": "execute_result"
    }
   ],
   "source": [
    "df['Stars'].value_counts()"
   ]
  },
  {
   "cell_type": "code",
   "execution_count": 38,
   "id": "48dbf139",
   "metadata": {},
   "outputs": [
    {
     "data": {
      "text/plain": [
       "3450"
      ]
     },
     "execution_count": 38,
     "metadata": {},
     "output_type": "execute_result"
    }
   ],
   "source": [
    "len(df['Stars'])"
   ]
  },
  {
   "cell_type": "code",
   "execution_count": 39,
   "id": "8782e843",
   "metadata": {},
   "outputs": [],
   "source": [
    "# Let's clean the 'stars' column by removing '\\t' and '\\n'\n",
    "df['Stars'] = df['Stars'].str.strip(\"\\n\\t\\t\\t\\t\\t\\t\\t\\t\\t\\t\\t\\t\\t\")"
   ]
  },
  {
   "cell_type": "code",
   "execution_count": 44,
   "id": "1ab08acd",
   "metadata": {},
   "outputs": [
    {
     "data": {
      "image/png": "[encoded data removed]",
      "text/plain": [
       "<Figure size 432x288 with 1 Axes>"
      ]
     },
     "metadata": {
      "needs_background": "light"
     },
     "output_type": "display_data"
    }
   ],
   "source": [
    "plt.hist(df['Stars'], bins=10, edgecolor='red') \n",
    "plt.xlabel('Stars')\n",
    "plt.ylabel('Frequency')\n",
    "plt.title('Distribution of Stars Column')\n",
    "plt.show()"
   ]
  },
  {
   "cell_type": "code",
   "execution_count": 41,
   "id": "921c97e0",
   "metadata": {},
   "outputs": [
    {
     "data": {
      "text/plain": [
       "Review    0\n",
       "Stars     0\n",
       "dtype: int64"
      ]
     },
     "execution_count": 41,
     "metadata": {},
     "output_type": "execute_result"
    }
   ],
   "source": [
    "df.isnull().sum()"
   ]
  },
  {
   "cell_type": "code",
   "execution_count": 43,
   "id": "61257366",
   "metadata": {},
   "outputs": [],
   "source": [
    "df['Stars'] = pd.to_numeric(df['Stars'], errors='coerce')\n",
    "\n",
    "df['Stars'] = df['Stars'].replace(\"None\", pd.NA)\n",
    "most_frequent_star = df['Stars'].mode()[0]\n",
    "df['Stars'].fillna(most_frequent_star, inplace=True)"
   ]
  },
  {
   "cell_type": "markdown",
   "id": "f5c49e2e",
   "metadata": {},
   "source": [
    "#### Cleaning Rewiews"
   ]
  },
  {
   "cell_type": "code",
   "execution_count": 45,
   "id": "3932564d",
   "metadata": {},
   "outputs": [
    {
     "name": "stdout",
     "output_type": "stream",
     "text": [
      "0    ✅ Trip Verified |  Easy check in a T5. Galleri...\n",
      "1    Not Verified |  Flight delayed by an hour, it ...\n",
      "2    Not Verified | The staff are very rude and not...\n",
      "3    ✅ Trip Verified |  Good domestic flight operat...\n",
      "4    Not Verified | Failed at all basic travel fund...\n",
      "5    ✅ Trip Verified |  They lost my baggage in a v...\n",
      "Name: Review, dtype: object 0    ✅ Trip Verified |  Easy check in a T5. Galleri...\n",
      "1    Not Verified |  Flight delayed by an hour, it ...\n",
      "2    Not Verified | The staff are very rude and not...\n",
      "3    ✅ Trip Verified |  Good domestic flight operat...\n",
      "4    Not Verified | Failed at all basic travel fund...\n",
      "5    ✅ Trip Verified |  They lost my baggage in a v...\n",
      "Name: Review, dtype: object\n"
     ]
    }
   ],
   "source": [
    "print(df.Review.head(6),df.Review.head(6))"
   ]
  },
  {
   "cell_type": "code",
   "execution_count": 46,
   "id": "b3c19098",
   "metadata": {},
   "outputs": [
    {
     "data": {
      "text/html": [
       "<div>\n",
       "<style scoped>\n",
       "    .dataframe tbody tr th:only-of-type {\n",
       "        vertical-align: middle;\n",
       "    }\n",
       "\n",
       "    .dataframe tbody tr th {\n",
       "        vertical-align: top;\n",
       "    }\n",
       "\n",
       "    .dataframe thead th {\n",
       "        text-align: right;\n",
       "    }\n",
       "</style>\n",
       "<table border=\"1\" class=\"dataframe\">\n",
       "  <thead>\n",
       "    <tr style=\"text-align: right;\">\n",
       "      <th></th>\n",
       "      <th>Review</th>\n",
       "      <th>Stars</th>\n",
       "    </tr>\n",
       "  </thead>\n",
       "  <tbody>\n",
       "    <tr>\n",
       "      <th>0</th>\n",
       "      <td>✅ Trip Verified |  Easy check in a T5. Galleri...</td>\n",
       "      <td>5.0</td>\n",
       "    </tr>\n",
       "    <tr>\n",
       "      <th>1</th>\n",
       "      <td>Not Verified |  Flight delayed by an hour, it ...</td>\n",
       "      <td>8.0</td>\n",
       "    </tr>\n",
       "    <tr>\n",
       "      <th>2</th>\n",
       "      <td>Not Verified | The staff are very rude and not...</td>\n",
       "      <td>2.0</td>\n",
       "    </tr>\n",
       "    <tr>\n",
       "      <th>3</th>\n",
       "      <td>✅ Trip Verified |  Good domestic flight operat...</td>\n",
       "      <td>2.0</td>\n",
       "    </tr>\n",
       "    <tr>\n",
       "      <th>4</th>\n",
       "      <td>Not Verified | Failed at all basic travel fund...</td>\n",
       "      <td>10.0</td>\n",
       "    </tr>\n",
       "    <tr>\n",
       "      <th>...</th>\n",
       "      <td>...</td>\n",
       "      <td>...</td>\n",
       "    </tr>\n",
       "    <tr>\n",
       "      <th>3445</th>\n",
       "      <td>BA2262 on 17th Feb 2014. I was in 4A from Jama...</td>\n",
       "      <td>4.0</td>\n",
       "    </tr>\n",
       "    <tr>\n",
       "      <th>3446</th>\n",
       "      <td>Domestic Edinburgh-Gatwick. Late by 40 mins bu...</td>\n",
       "      <td>1.0</td>\n",
       "    </tr>\n",
       "    <tr>\n",
       "      <th>3447</th>\n",
       "      <td>LHR-BSL-LHR A319's each way check/bag drop atT...</td>\n",
       "      <td>10.0</td>\n",
       "    </tr>\n",
       "    <tr>\n",
       "      <th>3448</th>\n",
       "      <td>Flew on a 777-200 from London Heathrow to San ...</td>\n",
       "      <td>7.0</td>\n",
       "    </tr>\n",
       "    <tr>\n",
       "      <th>3449</th>\n",
       "      <td>DME-LHR. B747-400. Used Avios to sample the 'n...</td>\n",
       "      <td>2.0</td>\n",
       "    </tr>\n",
       "  </tbody>\n",
       "</table>\n",
       "<p>3450 rows × 2 columns</p>\n",
       "</div>"
      ],
      "text/plain": [
       "                                                 Review  Stars\n",
       "0     ✅ Trip Verified |  Easy check in a T5. Galleri...    5.0\n",
       "1     Not Verified |  Flight delayed by an hour, it ...    8.0\n",
       "2     Not Verified | The staff are very rude and not...    2.0\n",
       "3     ✅ Trip Verified |  Good domestic flight operat...    2.0\n",
       "4     Not Verified | Failed at all basic travel fund...   10.0\n",
       "...                                                 ...    ...\n",
       "3445  BA2262 on 17th Feb 2014. I was in 4A from Jama...    4.0\n",
       "3446  Domestic Edinburgh-Gatwick. Late by 40 mins bu...    1.0\n",
       "3447  LHR-BSL-LHR A319's each way check/bag drop atT...   10.0\n",
       "3448  Flew on a 777-200 from London Heathrow to San ...    7.0\n",
       "3449  DME-LHR. B747-400. Used Avios to sample the 'n...    2.0\n",
       "\n",
       "[3450 rows x 2 columns]"
      ]
     },
     "execution_count": 46,
     "metadata": {},
     "output_type": "execute_result"
    }
   ],
   "source": [
    "df"
   ]
  },
  {
   "cell_type": "code",
   "execution_count": 47,
   "id": "ea07a923",
   "metadata": {},
   "outputs": [],
   "source": [
    "cleaned_reviews = []\n",
    "lemma = WordNetLemmatizer()\n",
    "\n",
    "for review in df.Review:\n",
    "    review = re.sub(\"[^a-zA-Z]\", \" \", review)\n",
    "    review = review.lower()\n",
    "    words = word_tokenize(review)\n",
    "    words = [word for word in words if word not in set(stopwords.words(\"english\"))]\n",
    "    lemmatized_words = [lemma.lemmatize(word) for word in words]\n",
    "    cleaned_review = \" \".join(lemmatized_words)\n",
    "    cleaned_reviews.append(cleaned_review)"
   ]
  },
  {
   "cell_type": "code",
   "execution_count": 48,
   "id": "be841eb3",
   "metadata": {},
   "outputs": [],
   "source": [
    "df['reviews'] = cleaned_reviews"
   ]
  },
  {
   "cell_type": "code",
   "execution_count": 49,
   "id": "28abaa05",
   "metadata": {},
   "outputs": [
    {
     "data": {
      "text/html": [
       "<div>\n",
       "<style scoped>\n",
       "    .dataframe tbody tr th:only-of-type {\n",
       "        vertical-align: middle;\n",
       "    }\n",
       "\n",
       "    .dataframe tbody tr th {\n",
       "        vertical-align: top;\n",
       "    }\n",
       "\n",
       "    .dataframe thead th {\n",
       "        text-align: right;\n",
       "    }\n",
       "</style>\n",
       "<table border=\"1\" class=\"dataframe\">\n",
       "  <thead>\n",
       "    <tr style=\"text-align: right;\">\n",
       "      <th></th>\n",
       "      <th>Review</th>\n",
       "      <th>Stars</th>\n",
       "      <th>reviews</th>\n",
       "    </tr>\n",
       "  </thead>\n",
       "  <tbody>\n",
       "    <tr>\n",
       "      <th>0</th>\n",
       "      <td>✅ Trip Verified |  Easy check in a T5. Galleri...</td>\n",
       "      <td>5.0</td>\n",
       "      <td>trip verified easy check gallery south north l...</td>\n",
       "    </tr>\n",
       "    <tr>\n",
       "      <th>1</th>\n",
       "      <td>Not Verified |  Flight delayed by an hour, it ...</td>\n",
       "      <td>8.0</td>\n",
       "      <td>verified flight delayed hour happens biggie u ...</td>\n",
       "    </tr>\n",
       "    <tr>\n",
       "      <th>2</th>\n",
       "      <td>Not Verified | The staff are very rude and not...</td>\n",
       "      <td>2.0</td>\n",
       "      <td>verified staff rude trained properly exception...</td>\n",
       "    </tr>\n",
       "    <tr>\n",
       "      <th>3</th>\n",
       "      <td>✅ Trip Verified |  Good domestic flight operat...</td>\n",
       "      <td>2.0</td>\n",
       "      <td>trip verified good domestic flight operated ba...</td>\n",
       "    </tr>\n",
       "    <tr>\n",
       "      <th>4</th>\n",
       "      <td>Not Verified | Failed at all basic travel fund...</td>\n",
       "      <td>10.0</td>\n",
       "      <td>verified failed basic travel fundamental fligh...</td>\n",
       "    </tr>\n",
       "    <tr>\n",
       "      <th>...</th>\n",
       "      <td>...</td>\n",
       "      <td>...</td>\n",
       "      <td>...</td>\n",
       "    </tr>\n",
       "    <tr>\n",
       "      <th>3445</th>\n",
       "      <td>BA2262 on 17th Feb 2014. I was in 4A from Jama...</td>\n",
       "      <td>4.0</td>\n",
       "      <td>ba th feb jamaica london gatwick need climb an...</td>\n",
       "    </tr>\n",
       "    <tr>\n",
       "      <th>3446</th>\n",
       "      <td>Domestic Edinburgh-Gatwick. Late by 40 mins bu...</td>\n",
       "      <td>1.0</td>\n",
       "      <td>domestic edinburgh gatwick late min unusual fl...</td>\n",
       "    </tr>\n",
       "    <tr>\n",
       "      <th>3447</th>\n",
       "      <td>LHR-BSL-LHR A319's each way check/bag drop atT...</td>\n",
       "      <td>10.0</td>\n",
       "      <td>lhr bsl lhr way check bag drop att took age ar...</td>\n",
       "    </tr>\n",
       "    <tr>\n",
       "      <th>3448</th>\n",
       "      <td>Flew on a 777-200 from London Heathrow to San ...</td>\n",
       "      <td>7.0</td>\n",
       "      <td>flew london heathrow san diego worst flight ta...</td>\n",
       "    </tr>\n",
       "    <tr>\n",
       "      <th>3449</th>\n",
       "      <td>DME-LHR. B747-400. Used Avios to sample the 'n...</td>\n",
       "      <td>2.0</td>\n",
       "      <td>dme lhr b used avios sample new first check ar...</td>\n",
       "    </tr>\n",
       "  </tbody>\n",
       "</table>\n",
       "<p>3450 rows × 3 columns</p>\n",
       "</div>"
      ],
      "text/plain": [
       "                                                 Review  Stars  \\\n",
       "0     ✅ Trip Verified |  Easy check in a T5. Galleri...    5.0   \n",
       "1     Not Verified |  Flight delayed by an hour, it ...    8.0   \n",
       "2     Not Verified | The staff are very rude and not...    2.0   \n",
       "3     ✅ Trip Verified |  Good domestic flight operat...    2.0   \n",
       "4     Not Verified | Failed at all basic travel fund...   10.0   \n",
       "...                                                 ...    ...   \n",
       "3445  BA2262 on 17th Feb 2014. I was in 4A from Jama...    4.0   \n",
       "3446  Domestic Edinburgh-Gatwick. Late by 40 mins bu...    1.0   \n",
       "3447  LHR-BSL-LHR A319's each way check/bag drop atT...   10.0   \n",
       "3448  Flew on a 777-200 from London Heathrow to San ...    7.0   \n",
       "3449  DME-LHR. B747-400. Used Avios to sample the 'n...    2.0   \n",
       "\n",
       "                                                reviews  \n",
       "0     trip verified easy check gallery south north l...  \n",
       "1     verified flight delayed hour happens biggie u ...  \n",
       "2     verified staff rude trained properly exception...  \n",
       "3     trip verified good domestic flight operated ba...  \n",
       "4     verified failed basic travel fundamental fligh...  \n",
       "...                                                 ...  \n",
       "3445  ba th feb jamaica london gatwick need climb an...  \n",
       "3446  domestic edinburgh gatwick late min unusual fl...  \n",
       "3447  lhr bsl lhr way check bag drop att took age ar...  \n",
       "3448  flew london heathrow san diego worst flight ta...  \n",
       "3449  dme lhr b used avios sample new first check ar...  \n",
       "\n",
       "[3450 rows x 3 columns]"
      ]
     },
     "execution_count": 49,
     "metadata": {},
     "output_type": "execute_result"
    }
   ],
   "source": [
    "df"
   ]
  },
  {
   "cell_type": "code",
   "execution_count": 50,
   "id": "66707ee6",
   "metadata": {},
   "outputs": [],
   "source": [
    "#Let's drop previous review column\n",
    "\n",
    "df.drop('Review',axis=1,inplace= True)"
   ]
  },
  {
   "cell_type": "code",
   "execution_count": 51,
   "id": "977e07f6",
   "metadata": {},
   "outputs": [],
   "source": [
    "\n",
    "#Let's do first column\n",
    "new_order = ['reviews'] + [col for col in df.columns if col != 'reviews']\n",
    "df = df[new_order]"
   ]
  },
  {
   "cell_type": "code",
   "execution_count": 52,
   "id": "6b145f26",
   "metadata": {},
   "outputs": [
    {
     "data": {
      "text/html": [
       "<div>\n",
       "<style scoped>\n",
       "    .dataframe tbody tr th:only-of-type {\n",
       "        vertical-align: middle;\n",
       "    }\n",
       "\n",
       "    .dataframe tbody tr th {\n",
       "        vertical-align: top;\n",
       "    }\n",
       "\n",
       "    .dataframe thead th {\n",
       "        text-align: right;\n",
       "    }\n",
       "</style>\n",
       "<table border=\"1\" class=\"dataframe\">\n",
       "  <thead>\n",
       "    <tr style=\"text-align: right;\">\n",
       "      <th></th>\n",
       "      <th>reviews</th>\n",
       "      <th>Stars</th>\n",
       "    </tr>\n",
       "  </thead>\n",
       "  <tbody>\n",
       "    <tr>\n",
       "      <th>0</th>\n",
       "      <td>trip verified easy check gallery south north l...</td>\n",
       "      <td>5.0</td>\n",
       "    </tr>\n",
       "    <tr>\n",
       "      <th>1</th>\n",
       "      <td>verified flight delayed hour happens biggie u ...</td>\n",
       "      <td>8.0</td>\n",
       "    </tr>\n",
       "    <tr>\n",
       "      <th>2</th>\n",
       "      <td>verified staff rude trained properly exception...</td>\n",
       "      <td>2.0</td>\n",
       "    </tr>\n",
       "    <tr>\n",
       "      <th>3</th>\n",
       "      <td>trip verified good domestic flight operated ba...</td>\n",
       "      <td>2.0</td>\n",
       "    </tr>\n",
       "    <tr>\n",
       "      <th>4</th>\n",
       "      <td>verified failed basic travel fundamental fligh...</td>\n",
       "      <td>10.0</td>\n",
       "    </tr>\n",
       "  </tbody>\n",
       "</table>\n",
       "</div>"
      ],
      "text/plain": [
       "                                             reviews  Stars\n",
       "0  trip verified easy check gallery south north l...    5.0\n",
       "1  verified flight delayed hour happens biggie u ...    8.0\n",
       "2  verified staff rude trained properly exception...    2.0\n",
       "3  trip verified good domestic flight operated ba...    2.0\n",
       "4  verified failed basic travel fundamental fligh...   10.0"
      ]
     },
     "execution_count": 52,
     "metadata": {},
     "output_type": "execute_result"
    }
   ],
   "source": [
    "df.head()"
   ]
  },
  {
   "cell_type": "code",
   "execution_count": 53,
   "id": "882a6923",
   "metadata": {},
   "outputs": [],
   "source": [
    "df['reviews'] = df['reviews'].str.replace('trip verified', '').str.replace('verified', '')"
   ]
  },
  {
   "cell_type": "code",
   "execution_count": 54,
   "id": "eec4c11e",
   "metadata": {},
   "outputs": [
    {
     "data": {
      "text/html": [
       "<div>\n",
       "<style scoped>\n",
       "    .dataframe tbody tr th:only-of-type {\n",
       "        vertical-align: middle;\n",
       "    }\n",
       "\n",
       "    .dataframe tbody tr th {\n",
       "        vertical-align: top;\n",
       "    }\n",
       "\n",
       "    .dataframe thead th {\n",
       "        text-align: right;\n",
       "    }\n",
       "</style>\n",
       "<table border=\"1\" class=\"dataframe\">\n",
       "  <thead>\n",
       "    <tr style=\"text-align: right;\">\n",
       "      <th></th>\n",
       "      <th>reviews</th>\n",
       "      <th>Stars</th>\n",
       "    </tr>\n",
       "  </thead>\n",
       "  <tbody>\n",
       "    <tr>\n",
       "      <th>0</th>\n",
       "      <td>easy check gallery south north lounge packed ...</td>\n",
       "      <td>5.0</td>\n",
       "    </tr>\n",
       "    <tr>\n",
       "      <th>1</th>\n",
       "      <td>flight delayed hour happens biggie u change g...</td>\n",
       "      <td>8.0</td>\n",
       "    </tr>\n",
       "    <tr>\n",
       "      <th>2</th>\n",
       "      <td>staff rude trained properly exception made ch...</td>\n",
       "      <td>2.0</td>\n",
       "    </tr>\n",
       "    <tr>\n",
       "      <th>3</th>\n",
       "      <td>good domestic flight operated ba cityflyer gr...</td>\n",
       "      <td>2.0</td>\n",
       "    </tr>\n",
       "    <tr>\n",
       "      <th>4</th>\n",
       "      <td>failed basic travel fundamental flight delaye...</td>\n",
       "      <td>10.0</td>\n",
       "    </tr>\n",
       "  </tbody>\n",
       "</table>\n",
       "</div>"
      ],
      "text/plain": [
       "                                             reviews  Stars\n",
       "0   easy check gallery south north lounge packed ...    5.0\n",
       "1   flight delayed hour happens biggie u change g...    8.0\n",
       "2   staff rude trained properly exception made ch...    2.0\n",
       "3   good domestic flight operated ba cityflyer gr...    2.0\n",
       "4   failed basic travel fundamental flight delaye...   10.0"
      ]
     },
     "execution_count": 54,
     "metadata": {},
     "output_type": "execute_result"
    }
   ],
   "source": [
    "df.head()"
   ]
  },
  {
   "cell_type": "markdown",
   "id": "65e33e24",
   "metadata": {},
   "source": [
    "### Exploratory Data Analysis"
   ]
  },
  {
   "cell_type": "code",
   "execution_count": 55,
   "id": "79dbb44c",
   "metadata": {},
   "outputs": [
    {
     "name": "stdout",
     "output_type": "stream",
     "text": [
      "<class 'pandas.core.frame.DataFrame'>\n",
      "RangeIndex: 3450 entries, 0 to 3449\n",
      "Data columns (total 2 columns):\n",
      " #   Column   Non-Null Count  Dtype  \n",
      "---  ------   --------------  -----  \n",
      " 0   reviews  3450 non-null   object \n",
      " 1   Stars    3450 non-null   float64\n",
      "dtypes: float64(1), object(1)\n",
      "memory usage: 54.0+ KB\n"
     ]
    }
   ],
   "source": [
    "df.info()"
   ]
  },
  {
   "cell_type": "code",
   "execution_count": 56,
   "id": "9c1156a3",
   "metadata": {},
   "outputs": [
    {
     "data": {
      "text/html": [
       "<div>\n",
       "<style scoped>\n",
       "    .dataframe tbody tr th:only-of-type {\n",
       "        vertical-align: middle;\n",
       "    }\n",
       "\n",
       "    .dataframe tbody tr th {\n",
       "        vertical-align: top;\n",
       "    }\n",
       "\n",
       "    .dataframe thead th {\n",
       "        text-align: right;\n",
       "    }\n",
       "</style>\n",
       "<table border=\"1\" class=\"dataframe\">\n",
       "  <thead>\n",
       "    <tr style=\"text-align: right;\">\n",
       "      <th></th>\n",
       "      <th>Stars</th>\n",
       "    </tr>\n",
       "  </thead>\n",
       "  <tbody>\n",
       "    <tr>\n",
       "      <th>count</th>\n",
       "      <td>3450.000000</td>\n",
       "    </tr>\n",
       "    <tr>\n",
       "      <th>mean</th>\n",
       "      <td>4.669565</td>\n",
       "    </tr>\n",
       "    <tr>\n",
       "      <th>std</th>\n",
       "      <td>3.132861</td>\n",
       "    </tr>\n",
       "    <tr>\n",
       "      <th>min</th>\n",
       "      <td>1.000000</td>\n",
       "    </tr>\n",
       "    <tr>\n",
       "      <th>25%</th>\n",
       "      <td>2.000000</td>\n",
       "    </tr>\n",
       "    <tr>\n",
       "      <th>50%</th>\n",
       "      <td>4.000000</td>\n",
       "    </tr>\n",
       "    <tr>\n",
       "      <th>75%</th>\n",
       "      <td>8.000000</td>\n",
       "    </tr>\n",
       "    <tr>\n",
       "      <th>max</th>\n",
       "      <td>10.000000</td>\n",
       "    </tr>\n",
       "  </tbody>\n",
       "</table>\n",
       "</div>"
      ],
      "text/plain": [
       "             Stars\n",
       "count  3450.000000\n",
       "mean      4.669565\n",
       "std       3.132861\n",
       "min       1.000000\n",
       "25%       2.000000\n",
       "50%       4.000000\n",
       "75%       8.000000\n",
       "max      10.000000"
      ]
     },
     "execution_count": 56,
     "metadata": {},
     "output_type": "execute_result"
    }
   ],
   "source": [
    "df.describe()"
   ]
  },
  {
   "cell_type": "markdown",
   "id": "95842e7e",
   "metadata": {},
   "source": [
    "###### Average point of star rating column"
   ]
  },
  {
   "cell_type": "code",
   "execution_count": 57,
   "id": "75ca0169",
   "metadata": {},
   "outputs": [
    {
     "name": "stdout",
     "output_type": "stream",
     "text": [
      "4.67\n"
     ]
    }
   ],
   "source": [
    "print(round(df['Stars'].mean(), 2))"
   ]
  },
  {
   "cell_type": "markdown",
   "id": "a9b8653a",
   "metadata": {},
   "source": [
    "###### What star did customers give the most?"
   ]
  },
  {
   "cell_type": "code",
   "execution_count": 58,
   "id": "63dbde9f",
   "metadata": {},
   "outputs": [
    {
     "data": {
      "text/plain": [
       "<AxesSubplot:>"
      ]
     },
     "execution_count": 58,
     "metadata": {},
     "output_type": "execute_result"
    },
    {
     "data": {
      "image/png": "[encoded data removed]",
      "text/plain": [
       "<Figure size 432x288 with 1 Axes>"
      ]
     },
     "metadata": {
      "needs_background": "light"
     },
     "output_type": "display_data"
    }
   ],
   "source": [
    "df.Stars.value_counts().plot(kind = 'bar')"
   ]
  },
  {
   "cell_type": "code",
   "execution_count": 77,
   "id": "c0502c25",
   "metadata": {},
   "outputs": [
    {
     "data": {
      "text/plain": [
       "0     easy check gallery south north lounge packed ...\n",
       "1     flight delayed hour happens biggie u change g...\n",
       "2     staff rude trained properly exception made ch...\n",
       "3     good domestic flight operated ba cityflyer gr...\n",
       "4     failed basic travel fundamental flight delaye...\n",
       "Name: reviews, dtype: object"
      ]
     },
     "execution_count": 77,
     "metadata": {},
     "output_type": "execute_result"
    }
   ],
   "source": [
    "df.reviews.head()"
   ]
  },
  {
   "cell_type": "code",
   "execution_count": 115,
   "id": "d93562f9",
   "metadata": {},
   "outputs": [],
   "source": [
    "from pathlib import Path\n",
    "import matplotlib.pyplot as plt\n",
    "from wordcloud import STOPWORDS, WordCloud, ImageColorGenerator\n",
    "from PIL import Image\n",
    "import numpy as np\n",
    "%matplotlib inline"
   ]
  },
  {
   "cell_type": "code",
   "execution_count": 117,
   "id": "a95a4c0b",
   "metadata": {},
   "outputs": [],
   "source": [
    "text = df['reviews'].str.cat(sep=' ')\n",
    "\n",
    "\n",
    "#set the stopwords list\n",
    "stopwords= set(STOPWORDS)\n",
    "new_words = []\n",
    "new_stopwords=stopwords.union(new_words)"
   ]
  },
  {
   "cell_type": "code",
   "execution_count": null,
   "id": "3cb17729",
   "metadata": {},
   "outputs": [],
   "source": []
  }
 ],
 "metadata": {
  "kernelspec": {
   "display_name": "Python 3 (ipykernel)",
   "language": "python",
   "name": "python3"
  },
  "language_info": {
   "codemirror_mode": {
    "name": "ipython",
    "version": 3
   },
   "file_extension": ".py",
   "mimetype": "text/x-python",
   "name": "python",
   "nbconvert_exporter": "python",
   "pygments_lexer": "ipython3",
   "version": "3.9.12"
  }
 },
 "nbformat": 4,
 "nbformat_minor": 5
}
