{
 "cells": [
  {
   "cell_type": "markdown",
   "id": "3b80a685",
   "metadata": {},
   "source": [
    "# Task 2"
   ]
  },
  {
   "cell_type": "markdown",
   "id": "c0b48519",
   "metadata": {},
   "source": [
    "### Predictive modeling of customer bookings\n",
    "This Jupyter notebook includes some code to get you started with this predictive modeling task. We will use various packages for data manipulation, feature engineering and machine learning."
   ]
  },
  {
   "cell_type": "markdown",
   "id": "c6b4552b",
   "metadata": {},
   "source": [
    "### Exploratory data analysis\n",
    "First, we must explore the data in order to better understand what we have and the statistical properties of the dataset."
   ]
  },
  {
   "cell_type": "markdown",
   "id": "f6e80663",
   "metadata": {},
   "source": [
    "### Attribute Information:\n"
   ]
  },
  {
   "cell_type": "markdown",
   "id": "ef6edbf2",
   "metadata": {},
   "source": [
    "- `num_passengers` = number of passengers travelling\n",
    "- `sales_channel` = sales channel booking was made on\n",
    "- `trip_type` = trip Type (Round Trip, One Way, Circle Trip)\n",
    "- `purchase_lead` = number of days between travel date and booking date\n",
    "- `length_of_stay` = number of days spent at destination\n",
    "- `flight_hour` = hour of flight departure\n",
    "- `flight_day` = day of week of flight departure\n",
    "- `route` = origin -> destination flight route\n",
    "- `booking_origin` = country from where booking was made\n",
    "- `wants_extra_baggage` = if the customer wanted extra baggage in the booking\n",
    "- `wants_preferred_seat` = if the customer wanted a preferred seat in the booking\n",
    "- `wants_in_flight_meals` = if the customer wanted in-flight meals in the booking\n",
    "- `flight_duration` = total duration of flight (in hours)\n",
    "- `booking_complete` = flag indicating if the customer completed the booking"
   ]
  },
  {
   "cell_type": "markdown",
   "id": "f1d52555",
   "metadata": {},
   "source": [
    "#### Train a machine learning model\n",
    "\n",
    "When our data is ready for modelling, we should train a machine learning model to be able to predict the target outcome, which is a customer making a booking. For this task, we should use an algorithm that easily allows us to output information about how each variable within the model contributes to its predictive power. For example, a RandomForest is very good for this purpose."
   ]
  },
  {
   "cell_type": "markdown",
   "id": "6bdf9e42",
   "metadata": {},
   "source": [
    "#### Evaluate model and present findings\n",
    "\n",
    "After training our model, we should evaluate how well it performed by conducting cross-validation and outputting appropriate evaluation metrics. Furthermore, we should create a visualisation to interpret how each variable contributed to the model."
   ]
  },
  {
   "cell_type": "markdown",
   "id": "a90e33b0",
   "metadata": {},
   "source": [
    "#### Importe Libraries"
   ]
  },
  {
   "cell_type": "code",
   "execution_count": 54,
   "id": "09de750e",
   "metadata": {},
   "outputs": [],
   "source": [
    "import pandas as pd\n",
    "import numpy as np\n",
    "import matplotlib.pyplot as plt\n",
    "import seaborn as sns \n",
    "from sklearn.preprocessing import OrdinalEncoder\n",
    "%matplotlib inline\n",
    "from sklearn.preprocessing import StandardScaler\n",
    "from sklearn.metrics import accuracy_score, confusion_matrix, precision_score, recall_score,f1_score,classification_report\n",
    "from sklearn.model_selection import KFold, cross_val_score\n",
    "from sklearn.model_selection import train_test_split, GridSearchCV\n",
    "from sklearn.ensemble import RandomForestClassifier\n",
    "from sklearn.feature_selection import SelectKBest, mutual_info_classif, SelectFromModel\n",
    "\n",
    "\n",
    "import warnings\n",
    "warnings.filterwarnings('ignore')"
   ]
  },
  {
   "cell_type": "markdown",
   "id": "9486167d",
   "metadata": {},
   "source": [
    "### Import Data Set"
   ]
  },
  {
   "cell_type": "code",
   "execution_count": 2,
   "id": "f784e504",
   "metadata": {},
   "outputs": [],
   "source": [
    "df = pd.read_csv(\"C:\\\\Users\\\\Galaxy Computers\\\\Desktop\\\\customer_booking.csv\", encoding='ISO-8859-1')\n"
   ]
  },
  {
   "cell_type": "code",
   "execution_count": 3,
   "id": "7dc1e1fc",
   "metadata": {},
   "outputs": [
    {
     "data": {
      "text/html": [
       "<div>\n",
       "<style scoped>\n",
       "    .dataframe tbody tr th:only-of-type {\n",
       "        vertical-align: middle;\n",
       "    }\n",
       "\n",
       "    .dataframe tbody tr th {\n",
       "        vertical-align: top;\n",
       "    }\n",
       "\n",
       "    .dataframe thead th {\n",
       "        text-align: right;\n",
       "    }\n",
       "</style>\n",
       "<table border=\"1\" class=\"dataframe\">\n",
       "  <thead>\n",
       "    <tr style=\"text-align: right;\">\n",
       "      <th></th>\n",
       "      <th>num_passengers</th>\n",
       "      <th>sales_channel</th>\n",
       "      <th>trip_type</th>\n",
       "      <th>purchase_lead</th>\n",
       "      <th>length_of_stay</th>\n",
       "      <th>flight_hour</th>\n",
       "      <th>flight_day</th>\n",
       "      <th>route</th>\n",
       "      <th>booking_origin</th>\n",
       "      <th>wants_extra_baggage</th>\n",
       "      <th>wants_preferred_seat</th>\n",
       "      <th>wants_in_flight_meals</th>\n",
       "      <th>flight_duration</th>\n",
       "      <th>booking_complete</th>\n",
       "    </tr>\n",
       "  </thead>\n",
       "  <tbody>\n",
       "    <tr>\n",
       "      <th>0</th>\n",
       "      <td>2</td>\n",
       "      <td>Internet</td>\n",
       "      <td>RoundTrip</td>\n",
       "      <td>262</td>\n",
       "      <td>19</td>\n",
       "      <td>7</td>\n",
       "      <td>Sat</td>\n",
       "      <td>AKLDEL</td>\n",
       "      <td>New Zealand</td>\n",
       "      <td>1</td>\n",
       "      <td>0</td>\n",
       "      <td>0</td>\n",
       "      <td>5.52</td>\n",
       "      <td>0</td>\n",
       "    </tr>\n",
       "    <tr>\n",
       "      <th>1</th>\n",
       "      <td>1</td>\n",
       "      <td>Internet</td>\n",
       "      <td>RoundTrip</td>\n",
       "      <td>112</td>\n",
       "      <td>20</td>\n",
       "      <td>3</td>\n",
       "      <td>Sat</td>\n",
       "      <td>AKLDEL</td>\n",
       "      <td>New Zealand</td>\n",
       "      <td>0</td>\n",
       "      <td>0</td>\n",
       "      <td>0</td>\n",
       "      <td>5.52</td>\n",
       "      <td>0</td>\n",
       "    </tr>\n",
       "    <tr>\n",
       "      <th>2</th>\n",
       "      <td>2</td>\n",
       "      <td>Internet</td>\n",
       "      <td>RoundTrip</td>\n",
       "      <td>243</td>\n",
       "      <td>22</td>\n",
       "      <td>17</td>\n",
       "      <td>Wed</td>\n",
       "      <td>AKLDEL</td>\n",
       "      <td>India</td>\n",
       "      <td>1</td>\n",
       "      <td>1</td>\n",
       "      <td>0</td>\n",
       "      <td>5.52</td>\n",
       "      <td>0</td>\n",
       "    </tr>\n",
       "    <tr>\n",
       "      <th>3</th>\n",
       "      <td>1</td>\n",
       "      <td>Internet</td>\n",
       "      <td>RoundTrip</td>\n",
       "      <td>96</td>\n",
       "      <td>31</td>\n",
       "      <td>4</td>\n",
       "      <td>Sat</td>\n",
       "      <td>AKLDEL</td>\n",
       "      <td>New Zealand</td>\n",
       "      <td>0</td>\n",
       "      <td>0</td>\n",
       "      <td>1</td>\n",
       "      <td>5.52</td>\n",
       "      <td>0</td>\n",
       "    </tr>\n",
       "    <tr>\n",
       "      <th>4</th>\n",
       "      <td>2</td>\n",
       "      <td>Internet</td>\n",
       "      <td>RoundTrip</td>\n",
       "      <td>68</td>\n",
       "      <td>22</td>\n",
       "      <td>15</td>\n",
       "      <td>Wed</td>\n",
       "      <td>AKLDEL</td>\n",
       "      <td>India</td>\n",
       "      <td>1</td>\n",
       "      <td>0</td>\n",
       "      <td>1</td>\n",
       "      <td>5.52</td>\n",
       "      <td>0</td>\n",
       "    </tr>\n",
       "  </tbody>\n",
       "</table>\n",
       "</div>"
      ],
      "text/plain": [
       "   num_passengers sales_channel  trip_type  purchase_lead  length_of_stay  \\\n",
       "0               2      Internet  RoundTrip            262              19   \n",
       "1               1      Internet  RoundTrip            112              20   \n",
       "2               2      Internet  RoundTrip            243              22   \n",
       "3               1      Internet  RoundTrip             96              31   \n",
       "4               2      Internet  RoundTrip             68              22   \n",
       "\n",
       "   flight_hour flight_day   route booking_origin  wants_extra_baggage  \\\n",
       "0            7        Sat  AKLDEL    New Zealand                    1   \n",
       "1            3        Sat  AKLDEL    New Zealand                    0   \n",
       "2           17        Wed  AKLDEL          India                    1   \n",
       "3            4        Sat  AKLDEL    New Zealand                    0   \n",
       "4           15        Wed  AKLDEL          India                    1   \n",
       "\n",
       "   wants_preferred_seat  wants_in_flight_meals  flight_duration  \\\n",
       "0                     0                      0             5.52   \n",
       "1                     0                      0             5.52   \n",
       "2                     1                      0             5.52   \n",
       "3                     0                      1             5.52   \n",
       "4                     0                      1             5.52   \n",
       "\n",
       "   booking_complete  \n",
       "0                 0  \n",
       "1                 0  \n",
       "2                 0  \n",
       "3                 0  \n",
       "4                 0  "
      ]
     },
     "execution_count": 3,
     "metadata": {},
     "output_type": "execute_result"
    }
   ],
   "source": [
    "df.head()"
   ]
  },
  {
   "cell_type": "markdown",
   "id": "4c6cb469",
   "metadata": {},
   "source": [
    "#### Statstical Analyzed "
   ]
  },
  {
   "cell_type": "code",
   "execution_count": 4,
   "id": "b7ee8dd5",
   "metadata": {},
   "outputs": [
    {
     "data": {
      "text/html": [
       "<div>\n",
       "<style scoped>\n",
       "    .dataframe tbody tr th:only-of-type {\n",
       "        vertical-align: middle;\n",
       "    }\n",
       "\n",
       "    .dataframe tbody tr th {\n",
       "        vertical-align: top;\n",
       "    }\n",
       "\n",
       "    .dataframe thead th {\n",
       "        text-align: right;\n",
       "    }\n",
       "</style>\n",
       "<table border=\"1\" class=\"dataframe\">\n",
       "  <thead>\n",
       "    <tr style=\"text-align: right;\">\n",
       "      <th></th>\n",
       "      <th>count</th>\n",
       "      <th>mean</th>\n",
       "      <th>std</th>\n",
       "      <th>min</th>\n",
       "      <th>25%</th>\n",
       "      <th>50%</th>\n",
       "      <th>75%</th>\n",
       "      <th>max</th>\n",
       "    </tr>\n",
       "  </thead>\n",
       "  <tbody>\n",
       "    <tr>\n",
       "      <th>num_passengers</th>\n",
       "      <td>50000.0</td>\n",
       "      <td>1.591240</td>\n",
       "      <td>1.020165</td>\n",
       "      <td>1.00</td>\n",
       "      <td>1.00</td>\n",
       "      <td>1.00</td>\n",
       "      <td>2.00</td>\n",
       "      <td>9.0</td>\n",
       "    </tr>\n",
       "    <tr>\n",
       "      <th>purchase_lead</th>\n",
       "      <td>50000.0</td>\n",
       "      <td>84.940480</td>\n",
       "      <td>90.451378</td>\n",
       "      <td>0.00</td>\n",
       "      <td>21.00</td>\n",
       "      <td>51.00</td>\n",
       "      <td>115.00</td>\n",
       "      <td>867.0</td>\n",
       "    </tr>\n",
       "    <tr>\n",
       "      <th>length_of_stay</th>\n",
       "      <td>50000.0</td>\n",
       "      <td>23.044560</td>\n",
       "      <td>33.887670</td>\n",
       "      <td>0.00</td>\n",
       "      <td>5.00</td>\n",
       "      <td>17.00</td>\n",
       "      <td>28.00</td>\n",
       "      <td>778.0</td>\n",
       "    </tr>\n",
       "    <tr>\n",
       "      <th>flight_hour</th>\n",
       "      <td>50000.0</td>\n",
       "      <td>9.066340</td>\n",
       "      <td>5.412660</td>\n",
       "      <td>0.00</td>\n",
       "      <td>5.00</td>\n",
       "      <td>9.00</td>\n",
       "      <td>13.00</td>\n",
       "      <td>23.0</td>\n",
       "    </tr>\n",
       "    <tr>\n",
       "      <th>wants_extra_baggage</th>\n",
       "      <td>50000.0</td>\n",
       "      <td>0.668780</td>\n",
       "      <td>0.470657</td>\n",
       "      <td>0.00</td>\n",
       "      <td>0.00</td>\n",
       "      <td>1.00</td>\n",
       "      <td>1.00</td>\n",
       "      <td>1.0</td>\n",
       "    </tr>\n",
       "    <tr>\n",
       "      <th>wants_preferred_seat</th>\n",
       "      <td>50000.0</td>\n",
       "      <td>0.296960</td>\n",
       "      <td>0.456923</td>\n",
       "      <td>0.00</td>\n",
       "      <td>0.00</td>\n",
       "      <td>0.00</td>\n",
       "      <td>1.00</td>\n",
       "      <td>1.0</td>\n",
       "    </tr>\n",
       "    <tr>\n",
       "      <th>wants_in_flight_meals</th>\n",
       "      <td>50000.0</td>\n",
       "      <td>0.427140</td>\n",
       "      <td>0.494668</td>\n",
       "      <td>0.00</td>\n",
       "      <td>0.00</td>\n",
       "      <td>0.00</td>\n",
       "      <td>1.00</td>\n",
       "      <td>1.0</td>\n",
       "    </tr>\n",
       "    <tr>\n",
       "      <th>flight_duration</th>\n",
       "      <td>50000.0</td>\n",
       "      <td>7.277561</td>\n",
       "      <td>1.496863</td>\n",
       "      <td>4.67</td>\n",
       "      <td>5.62</td>\n",
       "      <td>7.57</td>\n",
       "      <td>8.83</td>\n",
       "      <td>9.5</td>\n",
       "    </tr>\n",
       "    <tr>\n",
       "      <th>booking_complete</th>\n",
       "      <td>50000.0</td>\n",
       "      <td>0.149560</td>\n",
       "      <td>0.356643</td>\n",
       "      <td>0.00</td>\n",
       "      <td>0.00</td>\n",
       "      <td>0.00</td>\n",
       "      <td>0.00</td>\n",
       "      <td>1.0</td>\n",
       "    </tr>\n",
       "  </tbody>\n",
       "</table>\n",
       "</div>"
      ],
      "text/plain": [
       "                         count       mean        std   min    25%    50%  \\\n",
       "num_passengers         50000.0   1.591240   1.020165  1.00   1.00   1.00   \n",
       "purchase_lead          50000.0  84.940480  90.451378  0.00  21.00  51.00   \n",
       "length_of_stay         50000.0  23.044560  33.887670  0.00   5.00  17.00   \n",
       "flight_hour            50000.0   9.066340   5.412660  0.00   5.00   9.00   \n",
       "wants_extra_baggage    50000.0   0.668780   0.470657  0.00   0.00   1.00   \n",
       "wants_preferred_seat   50000.0   0.296960   0.456923  0.00   0.00   0.00   \n",
       "wants_in_flight_meals  50000.0   0.427140   0.494668  0.00   0.00   0.00   \n",
       "flight_duration        50000.0   7.277561   1.496863  4.67   5.62   7.57   \n",
       "booking_complete       50000.0   0.149560   0.356643  0.00   0.00   0.00   \n",
       "\n",
       "                          75%    max  \n",
       "num_passengers           2.00    9.0  \n",
       "purchase_lead          115.00  867.0  \n",
       "length_of_stay          28.00  778.0  \n",
       "flight_hour             13.00   23.0  \n",
       "wants_extra_baggage      1.00    1.0  \n",
       "wants_preferred_seat     1.00    1.0  \n",
       "wants_in_flight_meals    1.00    1.0  \n",
       "flight_duration          8.83    9.5  \n",
       "booking_complete         0.00    1.0  "
      ]
     },
     "execution_count": 4,
     "metadata": {},
     "output_type": "execute_result"
    }
   ],
   "source": [
    "df.describe().T"
   ]
  },
  {
   "cell_type": "code",
   "execution_count": 5,
   "id": "ee7ba745",
   "metadata": {},
   "outputs": [
    {
     "name": "stdout",
     "output_type": "stream",
     "text": [
      "<class 'pandas.core.frame.DataFrame'>\n",
      "RangeIndex: 50000 entries, 0 to 49999\n",
      "Data columns (total 14 columns):\n",
      " #   Column                 Non-Null Count  Dtype  \n",
      "---  ------                 --------------  -----  \n",
      " 0   num_passengers         50000 non-null  int64  \n",
      " 1   sales_channel          50000 non-null  object \n",
      " 2   trip_type              50000 non-null  object \n",
      " 3   purchase_lead          50000 non-null  int64  \n",
      " 4   length_of_stay         50000 non-null  int64  \n",
      " 5   flight_hour            50000 non-null  int64  \n",
      " 6   flight_day             50000 non-null  object \n",
      " 7   route                  50000 non-null  object \n",
      " 8   booking_origin         50000 non-null  object \n",
      " 9   wants_extra_baggage    50000 non-null  int64  \n",
      " 10  wants_preferred_seat   50000 non-null  int64  \n",
      " 11  wants_in_flight_meals  50000 non-null  int64  \n",
      " 12  flight_duration        50000 non-null  float64\n",
      " 13  booking_complete       50000 non-null  int64  \n",
      "dtypes: float64(1), int64(8), object(5)\n",
      "memory usage: 5.3+ MB\n"
     ]
    }
   ],
   "source": [
    "df.info()"
   ]
  },
  {
   "cell_type": "markdown",
   "id": "0c19db8c",
   "metadata": {},
   "source": [
    "### Analayzing Catagorical Variables "
   ]
  },
  {
   "cell_type": "code",
   "execution_count": 6,
   "id": "84a05336",
   "metadata": {},
   "outputs": [
    {
     "data": {
      "text/plain": [
       "Internet    44382\n",
       "Mobile       5618\n",
       "Name: sales_channel, dtype: int64"
      ]
     },
     "execution_count": 6,
     "metadata": {},
     "output_type": "execute_result"
    }
   ],
   "source": [
    "df.sales_channel.value_counts()"
   ]
  },
  {
   "cell_type": "code",
   "execution_count": 7,
   "id": "2231f807",
   "metadata": {},
   "outputs": [
    {
     "data": {
      "text/plain": [
       "RoundTrip     49497\n",
       "OneWay          387\n",
       "CircleTrip      116\n",
       "Name: trip_type, dtype: int64"
      ]
     },
     "execution_count": 7,
     "metadata": {},
     "output_type": "execute_result"
    }
   ],
   "source": [
    "df.trip_type.value_counts()"
   ]
  },
  {
   "cell_type": "code",
   "execution_count": 8,
   "id": "ec3f3ba5",
   "metadata": {},
   "outputs": [
    {
     "data": {
      "text/plain": [
       "Mon    8102\n",
       "Wed    7674\n",
       "Tue    7673\n",
       "Thu    7424\n",
       "Fri    6761\n",
       "Sun    6554\n",
       "Sat    5812\n",
       "Name: flight_day, dtype: int64"
      ]
     },
     "execution_count": 8,
     "metadata": {},
     "output_type": "execute_result"
    }
   ],
   "source": [
    "df.flight_day.value_counts()"
   ]
  },
  {
   "cell_type": "code",
   "execution_count": 9,
   "id": "6a636dff",
   "metadata": {},
   "outputs": [
    {
     "data": {
      "text/plain": [
       "AKLKUL    2680\n",
       "PENTPE     924\n",
       "MELSGN     842\n",
       "ICNSIN     801\n",
       "DMKKIX     744\n",
       "          ... \n",
       "LBUTPE       1\n",
       "CXRMEL       1\n",
       "DELKBR       1\n",
       "KOSSYD       1\n",
       "MRUXIY       1\n",
       "Name: route, Length: 799, dtype: int64"
      ]
     },
     "execution_count": 9,
     "metadata": {},
     "output_type": "execute_result"
    }
   ],
   "source": [
    "df.route.value_counts()"
   ]
  },
  {
   "cell_type": "code",
   "execution_count": 10,
   "id": "f05d3a53",
   "metadata": {},
   "outputs": [
    {
     "data": {
      "text/plain": [
       "Australia               17872\n",
       "Malaysia                 7174\n",
       "South Korea              4559\n",
       "Japan                    3885\n",
       "China                    3387\n",
       "                        ...  \n",
       "Panama                      1\n",
       "Tonga                       1\n",
       "Tanzania                    1\n",
       "Bulgaria                    1\n",
       "Svalbard & Jan Mayen        1\n",
       "Name: booking_origin, Length: 104, dtype: int64"
      ]
     },
     "execution_count": 10,
     "metadata": {},
     "output_type": "execute_result"
    }
   ],
   "source": [
    "df.booking_origin.value_counts()\n"
   ]
  },
  {
   "cell_type": "markdown",
   "id": "7d607dc5",
   "metadata": {},
   "source": [
    "#### Encoding Catagirical varables( )"
   ]
  },
  {
   "cell_type": "code",
   "execution_count": 11,
   "id": "fac4e4eb",
   "metadata": {},
   "outputs": [],
   "source": [
    "# One-hot encoding gerçekleştirme\n",
    "encoded_df = pd.get_dummies(df, columns=['sales_channel','trip_type'])\n",
    "\n",
    "# One-hot encoded sütunları orijinal DataFrame'e birleştirme\n",
    "df = pd.concat([df, encoded_df], axis=1)\n"
   ]
  },
  {
   "cell_type": "code",
   "execution_count": 12,
   "id": "c8938b11",
   "metadata": {},
   "outputs": [],
   "source": [
    "df.drop(columns=['sales_channel','trip_type','route'], axis=1, inplace=True)"
   ]
  },
  {
   "cell_type": "code",
   "execution_count": 13,
   "id": "a7958a94",
   "metadata": {},
   "outputs": [
    {
     "data": {
      "text/html": [
       "<div>\n",
       "<style scoped>\n",
       "    .dataframe tbody tr th:only-of-type {\n",
       "        vertical-align: middle;\n",
       "    }\n",
       "\n",
       "    .dataframe tbody tr th {\n",
       "        vertical-align: top;\n",
       "    }\n",
       "\n",
       "    .dataframe thead th {\n",
       "        text-align: right;\n",
       "    }\n",
       "</style>\n",
       "<table border=\"1\" class=\"dataframe\">\n",
       "  <thead>\n",
       "    <tr style=\"text-align: right;\">\n",
       "      <th></th>\n",
       "      <th>flight_day</th>\n",
       "      <th>flight_day</th>\n",
       "    </tr>\n",
       "  </thead>\n",
       "  <tbody>\n",
       "    <tr>\n",
       "      <th>0</th>\n",
       "      <td>Sat</td>\n",
       "      <td>Sat</td>\n",
       "    </tr>\n",
       "    <tr>\n",
       "      <th>1</th>\n",
       "      <td>Sat</td>\n",
       "      <td>Sat</td>\n",
       "    </tr>\n",
       "    <tr>\n",
       "      <th>2</th>\n",
       "      <td>Wed</td>\n",
       "      <td>Wed</td>\n",
       "    </tr>\n",
       "    <tr>\n",
       "      <th>3</th>\n",
       "      <td>Sat</td>\n",
       "      <td>Sat</td>\n",
       "    </tr>\n",
       "    <tr>\n",
       "      <th>4</th>\n",
       "      <td>Wed</td>\n",
       "      <td>Wed</td>\n",
       "    </tr>\n",
       "    <tr>\n",
       "      <th>...</th>\n",
       "      <td>...</td>\n",
       "      <td>...</td>\n",
       "    </tr>\n",
       "    <tr>\n",
       "      <th>49995</th>\n",
       "      <td>Sat</td>\n",
       "      <td>Sat</td>\n",
       "    </tr>\n",
       "    <tr>\n",
       "      <th>49996</th>\n",
       "      <td>Sun</td>\n",
       "      <td>Sun</td>\n",
       "    </tr>\n",
       "    <tr>\n",
       "      <th>49997</th>\n",
       "      <td>Sat</td>\n",
       "      <td>Sat</td>\n",
       "    </tr>\n",
       "    <tr>\n",
       "      <th>49998</th>\n",
       "      <td>Mon</td>\n",
       "      <td>Mon</td>\n",
       "    </tr>\n",
       "    <tr>\n",
       "      <th>49999</th>\n",
       "      <td>Thu</td>\n",
       "      <td>Thu</td>\n",
       "    </tr>\n",
       "  </tbody>\n",
       "</table>\n",
       "<p>50000 rows × 2 columns</p>\n",
       "</div>"
      ],
      "text/plain": [
       "      flight_day flight_day\n",
       "0            Sat        Sat\n",
       "1            Sat        Sat\n",
       "2            Wed        Wed\n",
       "3            Sat        Sat\n",
       "4            Wed        Wed\n",
       "...          ...        ...\n",
       "49995        Sat        Sat\n",
       "49996        Sun        Sun\n",
       "49997        Sat        Sat\n",
       "49998        Mon        Mon\n",
       "49999        Thu        Thu\n",
       "\n",
       "[50000 rows x 2 columns]"
      ]
     },
     "execution_count": 13,
     "metadata": {},
     "output_type": "execute_result"
    }
   ],
   "source": [
    "df.flight_day"
   ]
  },
  {
   "cell_type": "code",
   "execution_count": 14,
   "id": "071fb731",
   "metadata": {},
   "outputs": [
    {
     "name": "stdout",
     "output_type": "stream",
     "text": [
      "Rows 50000 Columns 27\n"
     ]
    }
   ],
   "source": [
    "print('Rows',len(df),'Columns',\n",
    "len(df.columns))"
   ]
  },
  {
   "cell_type": "code",
   "execution_count": 15,
   "id": "154a2320",
   "metadata": {},
   "outputs": [],
   "source": [
    "#Droping duplicate varables\n",
    "df = df.iloc[:, ~df.columns.duplicated()]"
   ]
  },
  {
   "cell_type": "code",
   "execution_count": 16,
   "id": "5512df7a",
   "metadata": {},
   "outputs": [
    {
     "name": "stdout",
     "output_type": "stream",
     "text": [
      "Rows 50000 Columns 16\n"
     ]
    }
   ],
   "source": [
    "print('Rows',len(df),'Columns',\n",
    "len(df.columns))"
   ]
  },
  {
   "cell_type": "code",
   "execution_count": 17,
   "id": "1984ea77",
   "metadata": {},
   "outputs": [],
   "source": [
    "column_to_encode = ['flight_day','booking_origin']\n",
    "\n",
    "# Create an instance of the OrdinalEncoder\n",
    "ordinal_encoder = OrdinalEncoder()\n",
    "\n",
    "# Fit and transform the encoder on the specified columns\n",
    "df[column_to_encode] = ordinal_encoder.fit_transform(df[column_to_encode])"
   ]
  },
  {
   "cell_type": "code",
   "execution_count": 26,
   "id": "0542d930",
   "metadata": {},
   "outputs": [
    {
     "data": {
      "text/html": [
       "<div>\n",
       "<style scoped>\n",
       "    .dataframe tbody tr th:only-of-type {\n",
       "        vertical-align: middle;\n",
       "    }\n",
       "\n",
       "    .dataframe tbody tr th {\n",
       "        vertical-align: top;\n",
       "    }\n",
       "\n",
       "    .dataframe thead th {\n",
       "        text-align: right;\n",
       "    }\n",
       "</style>\n",
       "<table border=\"1\" class=\"dataframe\">\n",
       "  <thead>\n",
       "    <tr style=\"text-align: right;\">\n",
       "      <th></th>\n",
       "      <th>num_passengers</th>\n",
       "      <th>purchase_lead</th>\n",
       "      <th>length_of_stay</th>\n",
       "      <th>flight_hour</th>\n",
       "      <th>flight_day</th>\n",
       "      <th>booking_origin</th>\n",
       "      <th>wants_extra_baggage</th>\n",
       "      <th>wants_preferred_seat</th>\n",
       "      <th>wants_in_flight_meals</th>\n",
       "      <th>flight_duration</th>\n",
       "      <th>booking_complete</th>\n",
       "      <th>sales_channel_Internet</th>\n",
       "      <th>sales_channel_Mobile</th>\n",
       "      <th>trip_type_CircleTrip</th>\n",
       "      <th>trip_type_OneWay</th>\n",
       "      <th>trip_type_RoundTrip</th>\n",
       "      <th>acora</th>\n",
       "    </tr>\n",
       "  </thead>\n",
       "  <tbody>\n",
       "    <tr>\n",
       "      <th>0</th>\n",
       "      <td>2</td>\n",
       "      <td>262</td>\n",
       "      <td>19</td>\n",
       "      <td>7</td>\n",
       "      <td>2.0</td>\n",
       "      <td>61.0</td>\n",
       "      <td>1</td>\n",
       "      <td>0</td>\n",
       "      <td>0</td>\n",
       "      <td>5.52</td>\n",
       "      <td>0</td>\n",
       "      <td>1</td>\n",
       "      <td>0</td>\n",
       "      <td>0</td>\n",
       "      <td>0</td>\n",
       "      <td>1</td>\n",
       "      <td>0.552</td>\n",
       "    </tr>\n",
       "    <tr>\n",
       "      <th>1</th>\n",
       "      <td>1</td>\n",
       "      <td>112</td>\n",
       "      <td>20</td>\n",
       "      <td>3</td>\n",
       "      <td>2.0</td>\n",
       "      <td>61.0</td>\n",
       "      <td>0</td>\n",
       "      <td>0</td>\n",
       "      <td>0</td>\n",
       "      <td>5.52</td>\n",
       "      <td>0</td>\n",
       "      <td>1</td>\n",
       "      <td>0</td>\n",
       "      <td>0</td>\n",
       "      <td>0</td>\n",
       "      <td>1</td>\n",
       "      <td>0.552</td>\n",
       "    </tr>\n",
       "    <tr>\n",
       "      <th>2</th>\n",
       "      <td>2</td>\n",
       "      <td>243</td>\n",
       "      <td>22</td>\n",
       "      <td>17</td>\n",
       "      <td>6.0</td>\n",
       "      <td>36.0</td>\n",
       "      <td>1</td>\n",
       "      <td>1</td>\n",
       "      <td>0</td>\n",
       "      <td>5.52</td>\n",
       "      <td>0</td>\n",
       "      <td>1</td>\n",
       "      <td>0</td>\n",
       "      <td>0</td>\n",
       "      <td>0</td>\n",
       "      <td>1</td>\n",
       "      <td>0.552</td>\n",
       "    </tr>\n",
       "    <tr>\n",
       "      <th>3</th>\n",
       "      <td>1</td>\n",
       "      <td>96</td>\n",
       "      <td>31</td>\n",
       "      <td>4</td>\n",
       "      <td>2.0</td>\n",
       "      <td>61.0</td>\n",
       "      <td>0</td>\n",
       "      <td>0</td>\n",
       "      <td>1</td>\n",
       "      <td>5.52</td>\n",
       "      <td>0</td>\n",
       "      <td>1</td>\n",
       "      <td>0</td>\n",
       "      <td>0</td>\n",
       "      <td>0</td>\n",
       "      <td>1</td>\n",
       "      <td>1.552</td>\n",
       "    </tr>\n",
       "    <tr>\n",
       "      <th>4</th>\n",
       "      <td>2</td>\n",
       "      <td>68</td>\n",
       "      <td>22</td>\n",
       "      <td>15</td>\n",
       "      <td>6.0</td>\n",
       "      <td>36.0</td>\n",
       "      <td>1</td>\n",
       "      <td>0</td>\n",
       "      <td>1</td>\n",
       "      <td>5.52</td>\n",
       "      <td>0</td>\n",
       "      <td>1</td>\n",
       "      <td>0</td>\n",
       "      <td>0</td>\n",
       "      <td>0</td>\n",
       "      <td>1</td>\n",
       "      <td>1.552</td>\n",
       "    </tr>\n",
       "  </tbody>\n",
       "</table>\n",
       "</div>"
      ],
      "text/plain": [
       "   num_passengers  purchase_lead  length_of_stay  flight_hour  flight_day  \\\n",
       "0               2            262              19            7         2.0   \n",
       "1               1            112              20            3         2.0   \n",
       "2               2            243              22           17         6.0   \n",
       "3               1             96              31            4         2.0   \n",
       "4               2             68              22           15         6.0   \n",
       "\n",
       "   booking_origin  wants_extra_baggage  wants_preferred_seat  \\\n",
       "0            61.0                    1                     0   \n",
       "1            61.0                    0                     0   \n",
       "2            36.0                    1                     1   \n",
       "3            61.0                    0                     0   \n",
       "4            36.0                    1                     0   \n",
       "\n",
       "   wants_in_flight_meals  flight_duration  booking_complete  \\\n",
       "0                      0             5.52                 0   \n",
       "1                      0             5.52                 0   \n",
       "2                      0             5.52                 0   \n",
       "3                      1             5.52                 0   \n",
       "4                      1             5.52                 0   \n",
       "\n",
       "   sales_channel_Internet  sales_channel_Mobile  trip_type_CircleTrip  \\\n",
       "0                       1                     0                     0   \n",
       "1                       1                     0                     0   \n",
       "2                       1                     0                     0   \n",
       "3                       1                     0                     0   \n",
       "4                       1                     0                     0   \n",
       "\n",
       "   trip_type_OneWay  trip_type_RoundTrip  acora  \n",
       "0                 0                    1  0.552  \n",
       "1                 0                    1  0.552  \n",
       "2                 0                    1  0.552  \n",
       "3                 0                    1  1.552  \n",
       "4                 0                    1  1.552  "
      ]
     },
     "execution_count": 26,
     "metadata": {},
     "output_type": "execute_result"
    }
   ],
   "source": [
    "df.head()"
   ]
  },
  {
   "cell_type": "markdown",
   "id": "9e034645",
   "metadata": {},
   "source": [
    "### Let's create a new column"
   ]
  },
  {
   "cell_type": "code",
   "execution_count": 20,
   "id": "a5b053b2",
   "metadata": {},
   "outputs": [
    {
     "data": {
      "text/html": [
       "<div>\n",
       "<style scoped>\n",
       "    .dataframe tbody tr th:only-of-type {\n",
       "        vertical-align: middle;\n",
       "    }\n",
       "\n",
       "    .dataframe tbody tr th {\n",
       "        vertical-align: top;\n",
       "    }\n",
       "\n",
       "    .dataframe thead th {\n",
       "        text-align: right;\n",
       "    }\n",
       "</style>\n",
       "<table border=\"1\" class=\"dataframe\">\n",
       "  <thead>\n",
       "    <tr style=\"text-align: right;\">\n",
       "      <th></th>\n",
       "      <th>wants_in_flight_meals</th>\n",
       "      <th>flight_duration</th>\n",
       "    </tr>\n",
       "  </thead>\n",
       "  <tbody>\n",
       "    <tr>\n",
       "      <th>0</th>\n",
       "      <td>0</td>\n",
       "      <td>5.52</td>\n",
       "    </tr>\n",
       "    <tr>\n",
       "      <th>1</th>\n",
       "      <td>0</td>\n",
       "      <td>5.52</td>\n",
       "    </tr>\n",
       "    <tr>\n",
       "      <th>2</th>\n",
       "      <td>0</td>\n",
       "      <td>5.52</td>\n",
       "    </tr>\n",
       "    <tr>\n",
       "      <th>3</th>\n",
       "      <td>1</td>\n",
       "      <td>5.52</td>\n",
       "    </tr>\n",
       "    <tr>\n",
       "      <th>4</th>\n",
       "      <td>1</td>\n",
       "      <td>5.52</td>\n",
       "    </tr>\n",
       "    <tr>\n",
       "      <th>...</th>\n",
       "      <td>...</td>\n",
       "      <td>...</td>\n",
       "    </tr>\n",
       "    <tr>\n",
       "      <th>49995</th>\n",
       "      <td>1</td>\n",
       "      <td>5.62</td>\n",
       "    </tr>\n",
       "    <tr>\n",
       "      <th>49996</th>\n",
       "      <td>0</td>\n",
       "      <td>5.62</td>\n",
       "    </tr>\n",
       "    <tr>\n",
       "      <th>49997</th>\n",
       "      <td>1</td>\n",
       "      <td>5.62</td>\n",
       "    </tr>\n",
       "    <tr>\n",
       "      <th>49998</th>\n",
       "      <td>1</td>\n",
       "      <td>5.62</td>\n",
       "    </tr>\n",
       "    <tr>\n",
       "      <th>49999</th>\n",
       "      <td>0</td>\n",
       "      <td>5.62</td>\n",
       "    </tr>\n",
       "  </tbody>\n",
       "</table>\n",
       "<p>50000 rows × 2 columns</p>\n",
       "</div>"
      ],
      "text/plain": [
       "       wants_in_flight_meals  flight_duration\n",
       "0                          0             5.52\n",
       "1                          0             5.52\n",
       "2                          0             5.52\n",
       "3                          1             5.52\n",
       "4                          1             5.52\n",
       "...                      ...              ...\n",
       "49995                      1             5.62\n",
       "49996                      0             5.62\n",
       "49997                      1             5.62\n",
       "49998                      1             5.62\n",
       "49999                      0             5.62\n",
       "\n",
       "[50000 rows x 2 columns]"
      ]
     },
     "execution_count": 20,
     "metadata": {},
     "output_type": "execute_result"
    }
   ],
   "source": [
    "df[['wants_in_flight_meals','flight_duration']]"
   ]
  },
  {
   "cell_type": "code",
   "execution_count": 22,
   "id": "26469218",
   "metadata": {},
   "outputs": [],
   "source": [
    "df['acora'] = df['flight_duration']/10 + df['wants_in_flight_meals']"
   ]
  },
  {
   "cell_type": "markdown",
   "id": "724b56c4",
   "metadata": {},
   "source": [
    "### Let's split the data into Features Variables(X) and Target Variable(y)"
   ]
  },
  {
   "cell_type": "code",
   "execution_count": 30,
   "id": "77886664",
   "metadata": {},
   "outputs": [],
   "source": [
    "X = df.drop(['booking_complete'], axis=1)\n",
    "\n",
    "y = df['booking_complete']"
   ]
  },
  {
   "cell_type": "code",
   "execution_count": 31,
   "id": "4410c190",
   "metadata": {},
   "outputs": [
    {
     "name": "stdout",
     "output_type": "stream",
     "text": [
      "X (50000, 16) y (50000,)\n"
     ]
    }
   ],
   "source": [
    "print('X',X.shape,'y',y.shape)"
   ]
  },
  {
   "cell_type": "markdown",
   "id": "8b2ac1c6",
   "metadata": {},
   "source": [
    "### Train-Test Split"
   ]
  },
  {
   "cell_type": "markdown",
   "id": "8b3b6018",
   "metadata": {},
   "source": [
    "###### Train size = %80\n",
    "\n",
    "Test size = %20"
   ]
  },
  {
   "cell_type": "code",
   "execution_count": 34,
   "id": "35d3f8a5",
   "metadata": {},
   "outputs": [],
   "source": [
    "X_train, X_test, y_train, y_test = train_test_split(X, y, test_size = 0.2, random_state = 0)"
   ]
  },
  {
   "cell_type": "code",
   "execution_count": 40,
   "id": "bc91e04f",
   "metadata": {},
   "outputs": [
    {
     "name": "stdout",
     "output_type": "stream",
     "text": [
      "X_train (40000, 16) | X_test (10000, 16)\n"
     ]
    }
   ],
   "source": [
    "print('X_train',X_train.shape,\n",
    "'| X_test',X_test.shape)"
   ]
  },
  {
   "cell_type": "code",
   "execution_count": null,
   "id": "aa2f1375",
   "metadata": {},
   "outputs": [],
   "source": []
  },
  {
   "cell_type": "code",
   "execution_count": null,
   "id": "d949f305",
   "metadata": {},
   "outputs": [],
   "source": []
  },
  {
   "cell_type": "markdown",
   "id": "93487096",
   "metadata": {},
   "source": [
    "### Feature Scaling"
   ]
  },
  {
   "cell_type": "code",
   "execution_count": 42,
   "id": "97a4bb87",
   "metadata": {},
   "outputs": [
    {
     "data": {
      "text/html": [
       "<div>\n",
       "<style scoped>\n",
       "    .dataframe tbody tr th:only-of-type {\n",
       "        vertical-align: middle;\n",
       "    }\n",
       "\n",
       "    .dataframe tbody tr th {\n",
       "        vertical-align: top;\n",
       "    }\n",
       "\n",
       "    .dataframe thead th {\n",
       "        text-align: right;\n",
       "    }\n",
       "</style>\n",
       "<table border=\"1\" class=\"dataframe\">\n",
       "  <thead>\n",
       "    <tr style=\"text-align: right;\">\n",
       "      <th></th>\n",
       "      <th>num_passengers</th>\n",
       "      <th>purchase_lead</th>\n",
       "      <th>length_of_stay</th>\n",
       "      <th>flight_hour</th>\n",
       "      <th>flight_day</th>\n",
       "      <th>booking_origin</th>\n",
       "      <th>wants_extra_baggage</th>\n",
       "      <th>wants_preferred_seat</th>\n",
       "      <th>wants_in_flight_meals</th>\n",
       "      <th>flight_duration</th>\n",
       "      <th>sales_channel_Internet</th>\n",
       "      <th>sales_channel_Mobile</th>\n",
       "      <th>trip_type_CircleTrip</th>\n",
       "      <th>trip_type_OneWay</th>\n",
       "      <th>trip_type_RoundTrip</th>\n",
       "      <th>acora</th>\n",
       "    </tr>\n",
       "  </thead>\n",
       "  <tbody>\n",
       "    <tr>\n",
       "      <th>20330</th>\n",
       "      <td>1</td>\n",
       "      <td>18</td>\n",
       "      <td>21</td>\n",
       "      <td>14</td>\n",
       "      <td>5.0</td>\n",
       "      <td>4.0</td>\n",
       "      <td>1</td>\n",
       "      <td>0</td>\n",
       "      <td>0</td>\n",
       "      <td>8.83</td>\n",
       "      <td>0</td>\n",
       "      <td>1</td>\n",
       "      <td>0</td>\n",
       "      <td>0</td>\n",
       "      <td>1</td>\n",
       "      <td>0.883</td>\n",
       "    </tr>\n",
       "    <tr>\n",
       "      <th>17532</th>\n",
       "      <td>1</td>\n",
       "      <td>23</td>\n",
       "      <td>41</td>\n",
       "      <td>5</td>\n",
       "      <td>1.0</td>\n",
       "      <td>50.0</td>\n",
       "      <td>1</td>\n",
       "      <td>0</td>\n",
       "      <td>1</td>\n",
       "      <td>4.75</td>\n",
       "      <td>1</td>\n",
       "      <td>0</td>\n",
       "      <td>0</td>\n",
       "      <td>0</td>\n",
       "      <td>1</td>\n",
       "      <td>1.475</td>\n",
       "    </tr>\n",
       "    <tr>\n",
       "      <th>45819</th>\n",
       "      <td>2</td>\n",
       "      <td>46</td>\n",
       "      <td>6</td>\n",
       "      <td>17</td>\n",
       "      <td>2.0</td>\n",
       "      <td>17.0</td>\n",
       "      <td>1</td>\n",
       "      <td>1</td>\n",
       "      <td>1</td>\n",
       "      <td>5.33</td>\n",
       "      <td>0</td>\n",
       "      <td>1</td>\n",
       "      <td>0</td>\n",
       "      <td>0</td>\n",
       "      <td>1</td>\n",
       "      <td>1.533</td>\n",
       "    </tr>\n",
       "    <tr>\n",
       "      <th>34807</th>\n",
       "      <td>1</td>\n",
       "      <td>40</td>\n",
       "      <td>4</td>\n",
       "      <td>12</td>\n",
       "      <td>0.0</td>\n",
       "      <td>91.0</td>\n",
       "      <td>0</td>\n",
       "      <td>1</td>\n",
       "      <td>0</td>\n",
       "      <td>4.67</td>\n",
       "      <td>1</td>\n",
       "      <td>0</td>\n",
       "      <td>0</td>\n",
       "      <td>0</td>\n",
       "      <td>1</td>\n",
       "      <td>0.467</td>\n",
       "    </tr>\n",
       "    <tr>\n",
       "      <th>31888</th>\n",
       "      <td>1</td>\n",
       "      <td>56</td>\n",
       "      <td>4</td>\n",
       "      <td>3</td>\n",
       "      <td>0.0</td>\n",
       "      <td>43.0</td>\n",
       "      <td>1</td>\n",
       "      <td>1</td>\n",
       "      <td>1</td>\n",
       "      <td>7.00</td>\n",
       "      <td>1</td>\n",
       "      <td>0</td>\n",
       "      <td>0</td>\n",
       "      <td>0</td>\n",
       "      <td>1</td>\n",
       "      <td>1.700</td>\n",
       "    </tr>\n",
       "  </tbody>\n",
       "</table>\n",
       "</div>"
      ],
      "text/plain": [
       "       num_passengers  purchase_lead  length_of_stay  flight_hour  flight_day  \\\n",
       "20330               1             18              21           14         5.0   \n",
       "17532               1             23              41            5         1.0   \n",
       "45819               2             46               6           17         2.0   \n",
       "34807               1             40               4           12         0.0   \n",
       "31888               1             56               4            3         0.0   \n",
       "\n",
       "       booking_origin  wants_extra_baggage  wants_preferred_seat  \\\n",
       "20330             4.0                    1                     0   \n",
       "17532            50.0                    1                     0   \n",
       "45819            17.0                    1                     1   \n",
       "34807            91.0                    0                     1   \n",
       "31888            43.0                    1                     1   \n",
       "\n",
       "       wants_in_flight_meals  flight_duration  sales_channel_Internet  \\\n",
       "20330                      0             8.83                       0   \n",
       "17532                      1             4.75                       1   \n",
       "45819                      1             5.33                       0   \n",
       "34807                      0             4.67                       1   \n",
       "31888                      1             7.00                       1   \n",
       "\n",
       "       sales_channel_Mobile  trip_type_CircleTrip  trip_type_OneWay  \\\n",
       "20330                     1                     0                 0   \n",
       "17532                     0                     0                 0   \n",
       "45819                     1                     0                 0   \n",
       "34807                     0                     0                 0   \n",
       "31888                     0                     0                 0   \n",
       "\n",
       "       trip_type_RoundTrip  acora  \n",
       "20330                    1  0.883  \n",
       "17532                    1  1.475  \n",
       "45819                    1  1.533  \n",
       "34807                    1  0.467  \n",
       "31888                    1  1.700  "
      ]
     },
     "execution_count": 42,
     "metadata": {},
     "output_type": "execute_result"
    }
   ],
   "source": [
    "#Let's create Standart Scaler\n",
    "scale = StandardScaler()\n",
    "\n",
    "#It is required to scale columns because there are differences the value of columns\n",
    "X_train.head()"
   ]
  },
  {
   "cell_type": "code",
   "execution_count": 43,
   "id": "8294b2ad",
   "metadata": {},
   "outputs": [
    {
     "data": {
      "text/html": [
       "<div>\n",
       "<style scoped>\n",
       "    .dataframe tbody tr th:only-of-type {\n",
       "        vertical-align: middle;\n",
       "    }\n",
       "\n",
       "    .dataframe tbody tr th {\n",
       "        vertical-align: top;\n",
       "    }\n",
       "\n",
       "    .dataframe thead th {\n",
       "        text-align: right;\n",
       "    }\n",
       "</style>\n",
       "<table border=\"1\" class=\"dataframe\">\n",
       "  <thead>\n",
       "    <tr style=\"text-align: right;\">\n",
       "      <th></th>\n",
       "      <th>num_passengers</th>\n",
       "      <th>purchase_lead</th>\n",
       "      <th>length_of_stay</th>\n",
       "      <th>flight_hour</th>\n",
       "      <th>flight_day</th>\n",
       "      <th>booking_origin</th>\n",
       "      <th>wants_extra_baggage</th>\n",
       "      <th>wants_preferred_seat</th>\n",
       "      <th>wants_in_flight_meals</th>\n",
       "      <th>flight_duration</th>\n",
       "      <th>sales_channel_Internet</th>\n",
       "      <th>sales_channel_Mobile</th>\n",
       "      <th>trip_type_CircleTrip</th>\n",
       "      <th>trip_type_OneWay</th>\n",
       "      <th>trip_type_RoundTrip</th>\n",
       "      <th>acora</th>\n",
       "    </tr>\n",
       "  </thead>\n",
       "  <tbody>\n",
       "    <tr>\n",
       "      <th>11841</th>\n",
       "      <td>2</td>\n",
       "      <td>33</td>\n",
       "      <td>20</td>\n",
       "      <td>9</td>\n",
       "      <td>5.0</td>\n",
       "      <td>4.0</td>\n",
       "      <td>1</td>\n",
       "      <td>1</td>\n",
       "      <td>1</td>\n",
       "      <td>8.83</td>\n",
       "      <td>1</td>\n",
       "      <td>0</td>\n",
       "      <td>0</td>\n",
       "      <td>0</td>\n",
       "      <td>1</td>\n",
       "      <td>1.883</td>\n",
       "    </tr>\n",
       "    <tr>\n",
       "      <th>19602</th>\n",
       "      <td>1</td>\n",
       "      <td>115</td>\n",
       "      <td>137</td>\n",
       "      <td>12</td>\n",
       "      <td>0.0</td>\n",
       "      <td>37.0</td>\n",
       "      <td>1</td>\n",
       "      <td>0</td>\n",
       "      <td>0</td>\n",
       "      <td>8.83</td>\n",
       "      <td>1</td>\n",
       "      <td>0</td>\n",
       "      <td>0</td>\n",
       "      <td>0</td>\n",
       "      <td>1</td>\n",
       "      <td>0.883</td>\n",
       "    </tr>\n",
       "    <tr>\n",
       "      <th>45519</th>\n",
       "      <td>1</td>\n",
       "      <td>14</td>\n",
       "      <td>6</td>\n",
       "      <td>4</td>\n",
       "      <td>4.0</td>\n",
       "      <td>17.0</td>\n",
       "      <td>0</td>\n",
       "      <td>0</td>\n",
       "      <td>0</td>\n",
       "      <td>6.42</td>\n",
       "      <td>1</td>\n",
       "      <td>0</td>\n",
       "      <td>0</td>\n",
       "      <td>0</td>\n",
       "      <td>1</td>\n",
       "      <td>0.642</td>\n",
       "    </tr>\n",
       "    <tr>\n",
       "      <th>25747</th>\n",
       "      <td>1</td>\n",
       "      <td>1</td>\n",
       "      <td>2</td>\n",
       "      <td>15</td>\n",
       "      <td>1.0</td>\n",
       "      <td>37.0</td>\n",
       "      <td>1</td>\n",
       "      <td>1</td>\n",
       "      <td>0</td>\n",
       "      <td>4.75</td>\n",
       "      <td>1</td>\n",
       "      <td>0</td>\n",
       "      <td>0</td>\n",
       "      <td>0</td>\n",
       "      <td>1</td>\n",
       "      <td>0.475</td>\n",
       "    </tr>\n",
       "    <tr>\n",
       "      <th>42642</th>\n",
       "      <td>1</td>\n",
       "      <td>47</td>\n",
       "      <td>6</td>\n",
       "      <td>1</td>\n",
       "      <td>2.0</td>\n",
       "      <td>51.0</td>\n",
       "      <td>0</td>\n",
       "      <td>0</td>\n",
       "      <td>1</td>\n",
       "      <td>7.57</td>\n",
       "      <td>1</td>\n",
       "      <td>0</td>\n",
       "      <td>0</td>\n",
       "      <td>0</td>\n",
       "      <td>1</td>\n",
       "      <td>1.757</td>\n",
       "    </tr>\n",
       "  </tbody>\n",
       "</table>\n",
       "</div>"
      ],
      "text/plain": [
       "       num_passengers  purchase_lead  length_of_stay  flight_hour  flight_day  \\\n",
       "11841               2             33              20            9         5.0   \n",
       "19602               1            115             137           12         0.0   \n",
       "45519               1             14               6            4         4.0   \n",
       "25747               1              1               2           15         1.0   \n",
       "42642               1             47               6            1         2.0   \n",
       "\n",
       "       booking_origin  wants_extra_baggage  wants_preferred_seat  \\\n",
       "11841             4.0                    1                     1   \n",
       "19602            37.0                    1                     0   \n",
       "45519            17.0                    0                     0   \n",
       "25747            37.0                    1                     1   \n",
       "42642            51.0                    0                     0   \n",
       "\n",
       "       wants_in_flight_meals  flight_duration  sales_channel_Internet  \\\n",
       "11841                      1             8.83                       1   \n",
       "19602                      0             8.83                       1   \n",
       "45519                      0             6.42                       1   \n",
       "25747                      0             4.75                       1   \n",
       "42642                      1             7.57                       1   \n",
       "\n",
       "       sales_channel_Mobile  trip_type_CircleTrip  trip_type_OneWay  \\\n",
       "11841                     0                     0                 0   \n",
       "19602                     0                     0                 0   \n",
       "45519                     0                     0                 0   \n",
       "25747                     0                     0                 0   \n",
       "42642                     0                     0                 0   \n",
       "\n",
       "       trip_type_RoundTrip  acora  \n",
       "11841                    1  1.883  \n",
       "19602                    1  0.883  \n",
       "45519                    1  0.642  \n",
       "25747                    1  0.475  \n",
       "42642                    1  1.757  "
      ]
     },
     "execution_count": 43,
     "metadata": {},
     "output_type": "execute_result"
    }
   ],
   "source": [
    "#It is required to scale columns because there are differences the value of columns\n",
    "X_test.head()"
   ]
  },
  {
   "cell_type": "code",
   "execution_count": 44,
   "id": "c6985a54",
   "metadata": {},
   "outputs": [
    {
     "name": "stdout",
     "output_type": "stream",
     "text": [
      "<class 'numpy.ndarray'>\n",
      "<class 'numpy.ndarray'>\n"
     ]
    }
   ],
   "source": [
    "#Let's create an object to know x train columns\n",
    "columns=X_train.columns\n",
    "\n",
    "#Scale X train and X test\n",
    "X_train=scale.fit_transform(X_train)\n",
    "X_test=scale.transform(X_test)\n",
    "\n",
    "#the type of data changes after scaling\n",
    "print(type(X_train))\n",
    "print(type(X_test))"
   ]
  },
  {
   "cell_type": "code",
   "execution_count": 45,
   "id": "4dcfec64",
   "metadata": {},
   "outputs": [
    {
     "data": {
      "text/html": [
       "<div>\n",
       "<style scoped>\n",
       "    .dataframe tbody tr th:only-of-type {\n",
       "        vertical-align: middle;\n",
       "    }\n",
       "\n",
       "    .dataframe tbody tr th {\n",
       "        vertical-align: top;\n",
       "    }\n",
       "\n",
       "    .dataframe thead th {\n",
       "        text-align: right;\n",
       "    }\n",
       "</style>\n",
       "<table border=\"1\" class=\"dataframe\">\n",
       "  <thead>\n",
       "    <tr style=\"text-align: right;\">\n",
       "      <th></th>\n",
       "      <th>num_passengers</th>\n",
       "      <th>purchase_lead</th>\n",
       "      <th>length_of_stay</th>\n",
       "      <th>flight_hour</th>\n",
       "      <th>flight_day</th>\n",
       "      <th>booking_origin</th>\n",
       "      <th>wants_extra_baggage</th>\n",
       "      <th>wants_preferred_seat</th>\n",
       "      <th>wants_in_flight_meals</th>\n",
       "      <th>flight_duration</th>\n",
       "      <th>sales_channel_Internet</th>\n",
       "      <th>sales_channel_Mobile</th>\n",
       "      <th>trip_type_CircleTrip</th>\n",
       "      <th>trip_type_OneWay</th>\n",
       "      <th>trip_type_RoundTrip</th>\n",
       "      <th>acora</th>\n",
       "    </tr>\n",
       "  </thead>\n",
       "  <tbody>\n",
       "    <tr>\n",
       "      <th>0</th>\n",
       "      <td>-0.579221</td>\n",
       "      <td>-0.739942</td>\n",
       "      <td>-0.061043</td>\n",
       "      <td>0.907074</td>\n",
       "      <td>0.952083</td>\n",
       "      <td>-1.046750</td>\n",
       "      <td>0.707810</td>\n",
       "      <td>-0.646986</td>\n",
       "      <td>-0.86506</td>\n",
       "      <td>1.035417</td>\n",
       "      <td>-2.807662</td>\n",
       "      <td>2.807662</td>\n",
       "      <td>-0.049049</td>\n",
       "      <td>-0.088807</td>\n",
       "      <td>0.10164</td>\n",
       "      <td>-0.506743</td>\n",
       "    </tr>\n",
       "    <tr>\n",
       "      <th>1</th>\n",
       "      <td>-0.579221</td>\n",
       "      <td>-0.684686</td>\n",
       "      <td>0.528727</td>\n",
       "      <td>-0.755604</td>\n",
       "      <td>-1.021350</td>\n",
       "      <td>0.355767</td>\n",
       "      <td>0.707810</td>\n",
       "      <td>-0.646986</td>\n",
       "      <td>1.15599</td>\n",
       "      <td>-1.686049</td>\n",
       "      <td>0.356168</td>\n",
       "      <td>-0.356168</td>\n",
       "      <td>-0.049049</td>\n",
       "      <td>-0.088807</td>\n",
       "      <td>0.10164</td>\n",
       "      <td>0.592949</td>\n",
       "    </tr>\n",
       "    <tr>\n",
       "      <th>2</th>\n",
       "      <td>0.403509</td>\n",
       "      <td>-0.430508</td>\n",
       "      <td>-0.503370</td>\n",
       "      <td>1.461300</td>\n",
       "      <td>-0.527992</td>\n",
       "      <td>-0.650387</td>\n",
       "      <td>0.707810</td>\n",
       "      <td>1.545629</td>\n",
       "      <td>1.15599</td>\n",
       "      <td>-1.299174</td>\n",
       "      <td>-2.807662</td>\n",
       "      <td>2.807662</td>\n",
       "      <td>-0.049049</td>\n",
       "      <td>-0.088807</td>\n",
       "      <td>0.10164</td>\n",
       "      <td>0.700690</td>\n",
       "    </tr>\n",
       "    <tr>\n",
       "      <th>3</th>\n",
       "      <td>-0.579221</td>\n",
       "      <td>-0.496815</td>\n",
       "      <td>-0.562347</td>\n",
       "      <td>0.537590</td>\n",
       "      <td>-1.514709</td>\n",
       "      <td>1.605837</td>\n",
       "      <td>-1.412809</td>\n",
       "      <td>1.545629</td>\n",
       "      <td>-0.86506</td>\n",
       "      <td>-1.739411</td>\n",
       "      <td>0.356168</td>\n",
       "      <td>-0.356168</td>\n",
       "      <td>-0.049049</td>\n",
       "      <td>-0.088807</td>\n",
       "      <td>0.10164</td>\n",
       "      <td>-1.279500</td>\n",
       "    </tr>\n",
       "    <tr>\n",
       "      <th>4</th>\n",
       "      <td>-0.579221</td>\n",
       "      <td>-0.319996</td>\n",
       "      <td>-0.562347</td>\n",
       "      <td>-1.125088</td>\n",
       "      <td>-1.514709</td>\n",
       "      <td>0.142340</td>\n",
       "      <td>0.707810</td>\n",
       "      <td>1.545629</td>\n",
       "      <td>1.15599</td>\n",
       "      <td>-0.185241</td>\n",
       "      <td>0.356168</td>\n",
       "      <td>-0.356168</td>\n",
       "      <td>-0.049049</td>\n",
       "      <td>-0.088807</td>\n",
       "      <td>0.10164</td>\n",
       "      <td>1.010907</td>\n",
       "    </tr>\n",
       "  </tbody>\n",
       "</table>\n",
       "</div>"
      ],
      "text/plain": [
       "   num_passengers  purchase_lead  length_of_stay  flight_hour  flight_day  \\\n",
       "0       -0.579221      -0.739942       -0.061043     0.907074    0.952083   \n",
       "1       -0.579221      -0.684686        0.528727    -0.755604   -1.021350   \n",
       "2        0.403509      -0.430508       -0.503370     1.461300   -0.527992   \n",
       "3       -0.579221      -0.496815       -0.562347     0.537590   -1.514709   \n",
       "4       -0.579221      -0.319996       -0.562347    -1.125088   -1.514709   \n",
       "\n",
       "   booking_origin  wants_extra_baggage  wants_preferred_seat  \\\n",
       "0       -1.046750             0.707810             -0.646986   \n",
       "1        0.355767             0.707810             -0.646986   \n",
       "2       -0.650387             0.707810              1.545629   \n",
       "3        1.605837            -1.412809              1.545629   \n",
       "4        0.142340             0.707810              1.545629   \n",
       "\n",
       "   wants_in_flight_meals  flight_duration  sales_channel_Internet  \\\n",
       "0               -0.86506         1.035417               -2.807662   \n",
       "1                1.15599        -1.686049                0.356168   \n",
       "2                1.15599        -1.299174               -2.807662   \n",
       "3               -0.86506        -1.739411                0.356168   \n",
       "4                1.15599        -0.185241                0.356168   \n",
       "\n",
       "   sales_channel_Mobile  trip_type_CircleTrip  trip_type_OneWay  \\\n",
       "0              2.807662             -0.049049         -0.088807   \n",
       "1             -0.356168             -0.049049         -0.088807   \n",
       "2              2.807662             -0.049049         -0.088807   \n",
       "3             -0.356168             -0.049049         -0.088807   \n",
       "4             -0.356168             -0.049049         -0.088807   \n",
       "\n",
       "   trip_type_RoundTrip     acora  \n",
       "0              0.10164 -0.506743  \n",
       "1              0.10164  0.592949  \n",
       "2              0.10164  0.700690  \n",
       "3              0.10164 -1.279500  \n",
       "4              0.10164  1.010907  "
      ]
     },
     "execution_count": 45,
     "metadata": {},
     "output_type": "execute_result"
    }
   ],
   "source": [
    "#Let's convert numpy array to pandas dataframe\n",
    "X_train = pd.DataFrame(X_train, columns=columns)\n",
    "X_test = pd.DataFrame(X_test, columns=columns)\n",
    "\n",
    "#First 5 rows of X train after scaling\n",
    "X_train.head()"
   ]
  },
  {
   "cell_type": "code",
   "execution_count": 46,
   "id": "4e7eb8ac",
   "metadata": {},
   "outputs": [
    {
     "data": {
      "text/html": [
       "<div>\n",
       "<style scoped>\n",
       "    .dataframe tbody tr th:only-of-type {\n",
       "        vertical-align: middle;\n",
       "    }\n",
       "\n",
       "    .dataframe tbody tr th {\n",
       "        vertical-align: top;\n",
       "    }\n",
       "\n",
       "    .dataframe thead th {\n",
       "        text-align: right;\n",
       "    }\n",
       "</style>\n",
       "<table border=\"1\" class=\"dataframe\">\n",
       "  <thead>\n",
       "    <tr style=\"text-align: right;\">\n",
       "      <th></th>\n",
       "      <th>num_passengers</th>\n",
       "      <th>purchase_lead</th>\n",
       "      <th>length_of_stay</th>\n",
       "      <th>flight_hour</th>\n",
       "      <th>flight_day</th>\n",
       "      <th>booking_origin</th>\n",
       "      <th>wants_extra_baggage</th>\n",
       "      <th>wants_preferred_seat</th>\n",
       "      <th>wants_in_flight_meals</th>\n",
       "      <th>flight_duration</th>\n",
       "      <th>sales_channel_Internet</th>\n",
       "      <th>sales_channel_Mobile</th>\n",
       "      <th>trip_type_CircleTrip</th>\n",
       "      <th>trip_type_OneWay</th>\n",
       "      <th>trip_type_RoundTrip</th>\n",
       "      <th>acora</th>\n",
       "    </tr>\n",
       "  </thead>\n",
       "  <tbody>\n",
       "    <tr>\n",
       "      <th>0</th>\n",
       "      <td>0.403509</td>\n",
       "      <td>-0.574174</td>\n",
       "      <td>-0.090531</td>\n",
       "      <td>-0.016636</td>\n",
       "      <td>0.952083</td>\n",
       "      <td>-1.046750</td>\n",
       "      <td>0.707810</td>\n",
       "      <td>1.545629</td>\n",
       "      <td>1.15599</td>\n",
       "      <td>1.035417</td>\n",
       "      <td>0.356168</td>\n",
       "      <td>-0.356168</td>\n",
       "      <td>-0.049049</td>\n",
       "      <td>-0.088807</td>\n",
       "      <td>0.10164</td>\n",
       "      <td>1.350846</td>\n",
       "    </tr>\n",
       "    <tr>\n",
       "      <th>1</th>\n",
       "      <td>-0.579221</td>\n",
       "      <td>0.332025</td>\n",
       "      <td>3.359619</td>\n",
       "      <td>0.537590</td>\n",
       "      <td>-1.514709</td>\n",
       "      <td>-0.040597</td>\n",
       "      <td>0.707810</td>\n",
       "      <td>-0.646986</td>\n",
       "      <td>-0.86506</td>\n",
       "      <td>1.035417</td>\n",
       "      <td>0.356168</td>\n",
       "      <td>-0.356168</td>\n",
       "      <td>-0.049049</td>\n",
       "      <td>-0.088807</td>\n",
       "      <td>0.10164</td>\n",
       "      <td>-0.506743</td>\n",
       "    </tr>\n",
       "    <tr>\n",
       "      <th>2</th>\n",
       "      <td>-0.579221</td>\n",
       "      <td>-0.784146</td>\n",
       "      <td>-0.503370</td>\n",
       "      <td>-0.940346</td>\n",
       "      <td>0.458725</td>\n",
       "      <td>-0.650387</td>\n",
       "      <td>-1.412809</td>\n",
       "      <td>-0.646986</td>\n",
       "      <td>-0.86506</td>\n",
       "      <td>-0.572116</td>\n",
       "      <td>0.356168</td>\n",
       "      <td>-0.356168</td>\n",
       "      <td>-0.049049</td>\n",
       "      <td>-0.088807</td>\n",
       "      <td>0.10164</td>\n",
       "      <td>-0.954422</td>\n",
       "    </tr>\n",
       "    <tr>\n",
       "      <th>3</th>\n",
       "      <td>-0.579221</td>\n",
       "      <td>-0.927812</td>\n",
       "      <td>-0.621323</td>\n",
       "      <td>1.091816</td>\n",
       "      <td>-1.021350</td>\n",
       "      <td>-0.040597</td>\n",
       "      <td>0.707810</td>\n",
       "      <td>1.545629</td>\n",
       "      <td>-0.86506</td>\n",
       "      <td>-1.686049</td>\n",
       "      <td>0.356168</td>\n",
       "      <td>-0.356168</td>\n",
       "      <td>-0.049049</td>\n",
       "      <td>-0.088807</td>\n",
       "      <td>0.10164</td>\n",
       "      <td>-1.264639</td>\n",
       "    </tr>\n",
       "    <tr>\n",
       "      <th>4</th>\n",
       "      <td>-0.579221</td>\n",
       "      <td>-0.419457</td>\n",
       "      <td>-0.503370</td>\n",
       "      <td>-1.494572</td>\n",
       "      <td>-0.527992</td>\n",
       "      <td>0.386256</td>\n",
       "      <td>-1.412809</td>\n",
       "      <td>-0.646986</td>\n",
       "      <td>1.15599</td>\n",
       "      <td>0.194964</td>\n",
       "      <td>0.356168</td>\n",
       "      <td>-0.356168</td>\n",
       "      <td>-0.049049</td>\n",
       "      <td>-0.088807</td>\n",
       "      <td>0.10164</td>\n",
       "      <td>1.116789</td>\n",
       "    </tr>\n",
       "  </tbody>\n",
       "</table>\n",
       "</div>"
      ],
      "text/plain": [
       "   num_passengers  purchase_lead  length_of_stay  flight_hour  flight_day  \\\n",
       "0        0.403509      -0.574174       -0.090531    -0.016636    0.952083   \n",
       "1       -0.579221       0.332025        3.359619     0.537590   -1.514709   \n",
       "2       -0.579221      -0.784146       -0.503370    -0.940346    0.458725   \n",
       "3       -0.579221      -0.927812       -0.621323     1.091816   -1.021350   \n",
       "4       -0.579221      -0.419457       -0.503370    -1.494572   -0.527992   \n",
       "\n",
       "   booking_origin  wants_extra_baggage  wants_preferred_seat  \\\n",
       "0       -1.046750             0.707810              1.545629   \n",
       "1       -0.040597             0.707810             -0.646986   \n",
       "2       -0.650387            -1.412809             -0.646986   \n",
       "3       -0.040597             0.707810              1.545629   \n",
       "4        0.386256            -1.412809             -0.646986   \n",
       "\n",
       "   wants_in_flight_meals  flight_duration  sales_channel_Internet  \\\n",
       "0                1.15599         1.035417                0.356168   \n",
       "1               -0.86506         1.035417                0.356168   \n",
       "2               -0.86506        -0.572116                0.356168   \n",
       "3               -0.86506        -1.686049                0.356168   \n",
       "4                1.15599         0.194964                0.356168   \n",
       "\n",
       "   sales_channel_Mobile  trip_type_CircleTrip  trip_type_OneWay  \\\n",
       "0             -0.356168             -0.049049         -0.088807   \n",
       "1             -0.356168             -0.049049         -0.088807   \n",
       "2             -0.356168             -0.049049         -0.088807   \n",
       "3             -0.356168             -0.049049         -0.088807   \n",
       "4             -0.356168             -0.049049         -0.088807   \n",
       "\n",
       "   trip_type_RoundTrip     acora  \n",
       "0              0.10164  1.350846  \n",
       "1              0.10164 -0.506743  \n",
       "2              0.10164 -0.954422  \n",
       "3              0.10164 -1.264639  \n",
       "4              0.10164  1.116789  "
      ]
     },
     "execution_count": 46,
     "metadata": {},
     "output_type": "execute_result"
    }
   ],
   "source": [
    "#First 5 rows of X test after scaling\n",
    "X_test.head()"
   ]
  },
  {
   "cell_type": "markdown",
   "id": "57d917b7",
   "metadata": {},
   "source": [
    "### Mutual Information"
   ]
  },
  {
   "cell_type": "code",
   "execution_count": 52,
   "id": "6e5af672",
   "metadata": {},
   "outputs": [],
   "source": [
    "selector = SelectKBest(lambda X,y : mutual_info_classif(X,y, discrete_features=True), k=8)"
   ]
  },
  {
   "cell_type": "code",
   "execution_count": 53,
   "id": "d83b7680",
   "metadata": {},
   "outputs": [
    {
     "data": {
      "text/plain": [
       "array([[262.   ,  19.   ,   7.   , ...,   0.   ,   5.52 ,   0.552],\n",
       "       [112.   ,  20.   ,   3.   , ...,   0.   ,   5.52 ,   0.552],\n",
       "       [243.   ,  22.   ,  17.   , ...,   1.   ,   5.52 ,   0.552],\n",
       "       ...,\n",
       "       [ 24.   ,   6.   ,  22.   , ...,   0.   ,   5.62 ,   1.562],\n",
       "       [ 15.   ,   6.   ,  11.   , ...,   0.   ,   5.62 ,   1.562],\n",
       "       [ 19.   ,   6.   ,  10.   , ...,   1.   ,   5.62 ,   0.562]])"
      ]
     },
     "execution_count": 53,
     "metadata": {},
     "output_type": "execute_result"
    }
   ],
   "source": [
    "selector.fit_transform(X,y)"
   ]
  },
  {
   "cell_type": "markdown",
   "id": "69790615",
   "metadata": {},
   "source": [
    "### Choosing Importante Features"
   ]
  },
  {
   "cell_type": "code",
   "execution_count": 59,
   "id": "d675e70b",
   "metadata": {},
   "outputs": [
    {
     "data": {
      "text/plain": [
       "array([[262.,  19.,   7.,   2.,  61.],\n",
       "       [112.,  20.,   3.,   2.,  61.],\n",
       "       [243.,  22.,  17.,   6.,  36.],\n",
       "       ...,\n",
       "       [ 24.,   6.,  22.,   2.,   4.],\n",
       "       [ 15.,   6.,  11.,   1.,   4.],\n",
       "       [ 19.,   6.,  10.,   4.,   4.]])"
      ]
     },
     "execution_count": 59,
     "metadata": {},
     "output_type": "execute_result"
    }
   ],
   "source": [
    "model = RandomForestClassifier(random_state=0)\n",
    "\n",
    "selectr = SelectFromModel(model, max_features=7)\n",
    "selectr.fit_transform(X,y)"
   ]
  },
  {
   "cell_type": "code",
   "execution_count": 65,
   "id": "bf2e2f31",
   "metadata": {},
   "outputs": [
    {
     "data": {
      "text/plain": [
       "array([0.05500864, 0.23730209, 0.14704085, 0.16720526, 0.10433755,\n",
       "       0.1203105 , 0.01421157, 0.01709373, 0.00816085, 0.05804347,\n",
       "       0.0050165 , 0.00532735, 0.00034019, 0.0008638 , 0.00112358,\n",
       "       0.05861408])"
      ]
     },
     "execution_count": 65,
     "metadata": {},
     "output_type": "execute_result"
    }
   ],
   "source": [
    "selectr.estimator_.feature_importances_"
   ]
  },
  {
   "cell_type": "code",
   "execution_count": 63,
   "id": "fe53dc3f",
   "metadata": {},
   "outputs": [
    {
     "data": {
      "text/plain": [
       "Index(['purchase_lead', 'length_of_stay', 'flight_hour', 'flight_day',\n",
       "       'booking_origin'],\n",
       "      dtype='object')"
      ]
     },
     "execution_count": 63,
     "metadata": {},
     "output_type": "execute_result"
    }
   ],
   "source": [
    "X.columns[selectr.get_support()]"
   ]
  },
  {
   "cell_type": "code",
   "execution_count": 72,
   "id": "a95c0a50",
   "metadata": {},
   "outputs": [],
   "source": [
    "X_train = X_train[['purchase_lead', 'length_of_stay', 'flight_hour', 'flight_day',\n",
    "       'booking_origin']]\n",
    "X_test = X_test[['purchase_lead', 'length_of_stay', 'flight_hour', 'flight_day',\n",
    "       'booking_origin']]"
   ]
  },
  {
   "cell_type": "code",
   "execution_count": 75,
   "id": "2230154e",
   "metadata": {},
   "outputs": [
    {
     "name": "stdout",
     "output_type": "stream",
     "text": [
      "(40000, 5) (10000, 5)\n"
     ]
    }
   ],
   "source": [
    "print(X_train.shape,X_test.shape)"
   ]
  },
  {
   "cell_type": "code",
   "execution_count": 73,
   "id": "68f072ae",
   "metadata": {},
   "outputs": [],
   "source": [
    "X_train = pd.DataFrame(X_train)\n",
    "X_test = pd.DataFrame(X_test)"
   ]
  },
  {
   "cell_type": "code",
   "execution_count": 76,
   "id": "1171c7d1",
   "metadata": {},
   "outputs": [
    {
     "data": {
      "text/html": [
       "<div>\n",
       "<style scoped>\n",
       "    .dataframe tbody tr th:only-of-type {\n",
       "        vertical-align: middle;\n",
       "    }\n",
       "\n",
       "    .dataframe tbody tr th {\n",
       "        vertical-align: top;\n",
       "    }\n",
       "\n",
       "    .dataframe thead th {\n",
       "        text-align: right;\n",
       "    }\n",
       "</style>\n",
       "<table border=\"1\" class=\"dataframe\">\n",
       "  <thead>\n",
       "    <tr style=\"text-align: right;\">\n",
       "      <th></th>\n",
       "      <th>purchase_lead</th>\n",
       "      <th>length_of_stay</th>\n",
       "      <th>flight_hour</th>\n",
       "      <th>flight_day</th>\n",
       "      <th>booking_origin</th>\n",
       "    </tr>\n",
       "  </thead>\n",
       "  <tbody>\n",
       "    <tr>\n",
       "      <th>0</th>\n",
       "      <td>-0.739942</td>\n",
       "      <td>-0.061043</td>\n",
       "      <td>0.907074</td>\n",
       "      <td>0.952083</td>\n",
       "      <td>-1.046750</td>\n",
       "    </tr>\n",
       "    <tr>\n",
       "      <th>1</th>\n",
       "      <td>-0.684686</td>\n",
       "      <td>0.528727</td>\n",
       "      <td>-0.755604</td>\n",
       "      <td>-1.021350</td>\n",
       "      <td>0.355767</td>\n",
       "    </tr>\n",
       "    <tr>\n",
       "      <th>2</th>\n",
       "      <td>-0.430508</td>\n",
       "      <td>-0.503370</td>\n",
       "      <td>1.461300</td>\n",
       "      <td>-0.527992</td>\n",
       "      <td>-0.650387</td>\n",
       "    </tr>\n",
       "    <tr>\n",
       "      <th>3</th>\n",
       "      <td>-0.496815</td>\n",
       "      <td>-0.562347</td>\n",
       "      <td>0.537590</td>\n",
       "      <td>-1.514709</td>\n",
       "      <td>1.605837</td>\n",
       "    </tr>\n",
       "    <tr>\n",
       "      <th>4</th>\n",
       "      <td>-0.319996</td>\n",
       "      <td>-0.562347</td>\n",
       "      <td>-1.125088</td>\n",
       "      <td>-1.514709</td>\n",
       "      <td>0.142340</td>\n",
       "    </tr>\n",
       "  </tbody>\n",
       "</table>\n",
       "</div>"
      ],
      "text/plain": [
       "   purchase_lead  length_of_stay  flight_hour  flight_day  booking_origin\n",
       "0      -0.739942       -0.061043     0.907074    0.952083       -1.046750\n",
       "1      -0.684686        0.528727    -0.755604   -1.021350        0.355767\n",
       "2      -0.430508       -0.503370     1.461300   -0.527992       -0.650387\n",
       "3      -0.496815       -0.562347     0.537590   -1.514709        1.605837\n",
       "4      -0.319996       -0.562347    -1.125088   -1.514709        0.142340"
      ]
     },
     "execution_count": 76,
     "metadata": {},
     "output_type": "execute_result"
    }
   ],
   "source": [
    "X_train.head()"
   ]
  },
  {
   "cell_type": "markdown",
   "id": "6e119203",
   "metadata": {},
   "source": [
    "## Machine Learning Model"
   ]
  },
  {
   "cell_type": "markdown",
   "id": "ba8e6d46",
   "metadata": {},
   "source": [
    "#### Random Forest Classifier"
   ]
  },
  {
   "cell_type": "code",
   "execution_count": 77,
   "id": "4d69315f",
   "metadata": {},
   "outputs": [
    {
     "data": {
      "text/plain": [
       "RandomForestClassifier(min_samples_split=10, random_state=42)"
      ]
     },
     "execution_count": 77,
     "metadata": {},
     "output_type": "execute_result"
    }
   ],
   "source": [
    "# Create Random Forest Classification Object\n",
    "rf = RandomForestClassifier(n_estimators=100,min_samples_split=10, random_state=42)\n",
    "rf.fit(X_train, y_train)"
   ]
  },
  {
   "cell_type": "code",
   "execution_count": 78,
   "id": "7f3f38a9",
   "metadata": {},
   "outputs": [],
   "source": [
    "# Predicting the Test set results\n",
    "y_pred=rf.predict(X_test)"
   ]
  },
  {
   "cell_type": "markdown",
   "id": "7e45a4e6",
   "metadata": {},
   "source": [
    "##### Performance Reporting"
   ]
  },
  {
   "cell_type": "code",
   "execution_count": 79,
   "id": "ed9330aa",
   "metadata": {},
   "outputs": [
    {
     "name": "stdout",
     "output_type": "stream",
     "text": [
      "Accuracy: 0.8462\n",
      "Precision: 0.4413145539906103\n",
      "Recall: 0.06212822207534699\n",
      "F1-score: 0.10892236384704518\n"
     ]
    }
   ],
   "source": [
    "# Calculate performance metrics\n",
    "accuracy = accuracy_score(y_test, y_pred)\n",
    "precision = precision_score(y_test, y_pred)\n",
    "recall = recall_score(y_test, y_pred)\n",
    "f1 = f1_score(y_test, y_pred)\n",
    "\n",
    "\n",
    "\n",
    "# Print the results\n",
    "print(\"Accuracy:\", accuracy)\n",
    "print(\"Precision:\", precision)\n",
    "print(\"Recall:\", recall)\n",
    "print(\"F1-score:\", f1)"
   ]
  },
  {
   "cell_type": "markdown",
   "id": "acb1060a",
   "metadata": {},
   "source": [
    "##### Confusion Matrix"
   ]
  },
  {
   "cell_type": "code",
   "execution_count": 80,
   "id": "c490baf3",
   "metadata": {},
   "outputs": [
    {
     "name": "stdout",
     "output_type": "stream",
     "text": [
      "[[8368  119]\n",
      " [1419   94]]\n"
     ]
    }
   ],
   "source": [
    "conf_matrix = confusion_matrix(y_test, y_pred)\n",
    "print(conf_matrix)"
   ]
  },
  {
   "cell_type": "code",
   "execution_count": 81,
   "id": "f4e56400",
   "metadata": {},
   "outputs": [
    {
     "data": {
      "image/png": "[encoded data removed]",
      "text/plain": [
       "<Figure size 576x432 with 2 Axes>"
      ]
     },
     "metadata": {
      "needs_background": "light"
     },
     "output_type": "display_data"
    }
   ],
   "source": [
    "# Create a heatmap of the confusion matrix\n",
    "plt.figure(figsize=(8, 6))\n",
    "sns.heatmap(conf_matrix, annot=True, fmt=\"d\", cmap=\"Oranges\")\n",
    "plt.title(\"Confusion Matrix\")\n",
    "plt.xlabel(\"Predicted Labels\")\n",
    "plt.ylabel(\"True Labels\")\n",
    "plt.show()"
   ]
  },
  {
   "cell_type": "code",
   "execution_count": 82,
   "id": "8ff4f67a",
   "metadata": {},
   "outputs": [
    {
     "data": {
      "image/png": "[encoded data removed]",
      "text/plain": [
       "<Figure size 720x432 with 1 Axes>"
      ]
     },
     "metadata": {
      "needs_background": "light"
     },
     "output_type": "display_data"
    }
   ],
   "source": [
    "# Get feature importances\n",
    "importances = rf.feature_importances_\n",
    "\n",
    "# Get feature names\n",
    "feature_names = X_train.columns\n",
    "\n",
    "# Sort feature importances in descending order\n",
    "indices = importances.argsort()[::-1]\n",
    "\n",
    "# Plot the feature importances\n",
    "plt.figure(figsize=(10, 6))\n",
    "plt.title(\"Feature Importances\")\n",
    "plt.bar(range(X_train.shape[1]), importances[indices])\n",
    "plt.xticks(range(X_train.shape[1]), feature_names[indices], rotation='vertical')\n",
    "plt.tight_layout()\n",
    "plt.show()"
   ]
  },
  {
   "cell_type": "markdown",
   "id": "e35e4c3e",
   "metadata": {},
   "source": [
    "Upon analyzing the performance metrics presented above, it becomes evident that the main cause of the low F1 score is an imbalanced dataset. The disparity between the number of entries classified as 0 and 1 is responsible for this issue. To rectify the situation, we can equalize the number of entries for both classes by balancing the dataset, effectively addressing the problem at hand."
   ]
  },
  {
   "cell_type": "markdown",
   "id": "a45cf534",
   "metadata": {},
   "source": [
    "#### Balance The Dataset"
   ]
  },
  {
   "cell_type": "code",
   "execution_count": 83,
   "id": "56128b9b",
   "metadata": {},
   "outputs": [
    {
     "name": "stdout",
     "output_type": "stream",
     "text": [
      "0    42522\n",
      "1     7478\n",
      "Name: booking_complete, dtype: int64\n",
      "0    0.85044\n",
      "1    0.14956\n",
      "Name: booking_complete, dtype: float64\n"
     ]
    }
   ],
   "source": [
    "#Let's check y label \n",
    "print(df.booking_complete.value_counts())\n",
    "\n",
    "#We clearly see that the data is inbalanced in below after calculating the relative frequency (or proportion) of each unique value\n",
    "print(df.booking_complete.value_counts()/np.float(len(df)))"
   ]
  },
  {
   "cell_type": "code",
   "execution_count": 84,
   "id": "94bb155b",
   "metadata": {},
   "outputs": [],
   "source": [
    "# Let's create a dataframe with all labels 0 and sample 7500 rows from it\n",
    "df_0 = df[df['booking_complete'] == 0].sample(n=8000, random_state=42)\n",
    "\n",
    "# Let's create a dataframe with all 1\n",
    "df_1 = df[df['booking_complete'] == 1]\n",
    "\n",
    "# Combine df_0 and df_1\n",
    "df_balanced = pd.concat([df_1, df_0], ignore_index=True)\n",
    "\n",
    "# Split the DataFrame into features (X) and labels (y)\n",
    "X = df_balanced.drop('booking_complete', axis=1)  \n",
    "y = df_balanced['booking_complete']\n",
    "\n",
    "# Scale the features \n",
    "scaler = StandardScaler()\n",
    "X_scaled = scaler.fit_transform(X)\n",
    "\n",
    "# Train-test split\n",
    "X_train, X_test, y_train, y_test = train_test_split(X_scaled, y, test_size=0.2, random_state=42) "
   ]
  },
  {
   "cell_type": "markdown",
   "id": "3f17ebbd",
   "metadata": {},
   "source": [
    "### Random Forest Classifier for balanced dataset"
   ]
  },
  {
   "cell_type": "code",
   "execution_count": 85,
   "id": "825e7579",
   "metadata": {},
   "outputs": [],
   "source": [
    "# Create Random Forest Classification Object\n",
    "rf = RandomForestClassifier(n_estimators=100,min_samples_split=10, random_state=42)\n",
    "rf.fit(X_train, y_train)\n",
    "\n",
    "# Predicting the Test set results\n",
    "balanced_y_pred=rf.predict(X_test)"
   ]
  },
  {
   "cell_type": "markdown",
   "id": "4cf85140",
   "metadata": {},
   "source": [
    "##### Performance Reporting for balanced dataset"
   ]
  },
  {
   "cell_type": "code",
   "execution_count": 86,
   "id": "9c46912b",
   "metadata": {},
   "outputs": [
    {
     "name": "stdout",
     "output_type": "stream",
     "text": [
      "Accuracy: 0.6944444444444444\n",
      "Precision: 0.675300063171194\n",
      "Recall: 0.7121918720852765\n",
      "F1-score: 0.6932555123216602\n"
     ]
    }
   ],
   "source": [
    "# Calculate performance metrics\n",
    "accuracy = accuracy_score(y_test, balanced_y_pred)\n",
    "precision = precision_score(y_test, balanced_y_pred)\n",
    "recall = recall_score(y_test, balanced_y_pred)\n",
    "f1 = f1_score(y_test, balanced_y_pred)\n",
    "\n",
    "# Print the performance metrics\n",
    "print(\"Accuracy:\", accuracy)\n",
    "print(\"Precision:\", precision)\n",
    "print(\"Recall:\", recall)\n",
    "print(\"F1-score:\", f1)"
   ]
  },
  {
   "cell_type": "markdown",
   "id": "1c49bc1d",
   "metadata": {},
   "source": [
    "#### Confusion Matrix for balanced dataset"
   ]
  },
  {
   "cell_type": "code",
   "execution_count": 87,
   "id": "12533bd6",
   "metadata": {},
   "outputs": [
    {
     "name": "stdout",
     "output_type": "stream",
     "text": [
      "[[1081  514]\n",
      " [ 432 1069]]\n"
     ]
    }
   ],
   "source": [
    "conf_matrix = confusion_matrix(y_test, balanced_y_pred)\n",
    "print(conf_matrix)"
   ]
  },
  {
   "cell_type": "code",
   "execution_count": 88,
   "id": "514ed61c",
   "metadata": {},
   "outputs": [
    {
     "data": {
      "image/png": "[encoded data removed]",
      "text/plain": [
       "<Figure size 576x432 with 2 Axes>"
      ]
     },
     "metadata": {
      "needs_background": "light"
     },
     "output_type": "display_data"
    }
   ],
   "source": [
    "# Create a heatmap of the confusion matrix for balanced dataset\n",
    "plt.figure(figsize=(8, 6))\n",
    "sns.heatmap(conf_matrix, annot=True, fmt=\"d\", cmap=\"Oranges\")\n",
    "plt.title(\"Confusion Matrix\")\n",
    "plt.xlabel(\"Predicted Labels\")\n",
    "plt.ylabel(\"True Labels\")\n",
    "plt.show()"
   ]
  },
  {
   "cell_type": "markdown",
   "id": "9e713ed0",
   "metadata": {},
   "source": [
    "### Random Forest Classifier with Hyperparameter Tuning"
   ]
  },
  {
   "cell_type": "code",
   "execution_count": 90,
   "id": "4cfe4ce8",
   "metadata": {},
   "outputs": [],
   "source": [
    "# Let's create a RandomForestClassifier\n",
    "rf = RandomForestClassifier(random_state=42)"
   ]
  },
  {
   "cell_type": "code",
   "execution_count": 91,
   "id": "145c0598",
   "metadata": {},
   "outputs": [],
   "source": [
    "# Let's define a parameter grid to search for the best hyperparameters\n",
    "param_grid = {\n",
    "    'n_estimators': [100, 200, 300],\n",
    "    'max_depth': [None, 10, 20],\n",
    "    'min_samples_split': [2, 5, 10],\n",
    "    'min_samples_leaf': [1, 2, 4],\n",
    "    'max_features': ['auto', 'sqrt']\n",
    "}"
   ]
  },
  {
   "cell_type": "code",
   "execution_count": 92,
   "id": "413595d4",
   "metadata": {},
   "outputs": [],
   "source": [
    "\n",
    "# Let's create GridSearchCV with the RandomForestClassifier and the parameter grid\n",
    "grid_search = GridSearchCV(estimator=rf, param_grid=param_grid, cv=5, n_jobs=-1)"
   ]
  },
  {
   "cell_type": "code",
   "execution_count": 93,
   "id": "44133cb9",
   "metadata": {},
   "outputs": [
    {
     "data": {
      "text/plain": [
       "GridSearchCV(cv=5, estimator=RandomForestClassifier(random_state=42), n_jobs=-1,\n",
       "             param_grid={'max_depth': [None, 10, 20],\n",
       "                         'max_features': ['auto', 'sqrt'],\n",
       "                         'min_samples_leaf': [1, 2, 4],\n",
       "                         'min_samples_split': [2, 5, 10],\n",
       "                         'n_estimators': [100, 200, 300]})"
      ]
     },
     "execution_count": 93,
     "metadata": {},
     "output_type": "execute_result"
    }
   ],
   "source": [
    "# Fit the model to find the best hyperparameters\n",
    "grid_search.fit(X_train, y_train)"
   ]
  },
  {
   "cell_type": "code",
   "execution_count": 94,
   "id": "4d2a6fe8",
   "metadata": {},
   "outputs": [
    {
     "data": {
      "text/plain": [
       "{'max_depth': 20,\n",
       " 'max_features': 'auto',\n",
       " 'min_samples_leaf': 1,\n",
       " 'min_samples_split': 10,\n",
       " 'n_estimators': 300}"
      ]
     },
     "execution_count": 94,
     "metadata": {},
     "output_type": "execute_result"
    }
   ],
   "source": [
    "# Get the best hyperparameters from the grid search\n",
    "best_params = grid_search.best_params_\n",
    "best_params"
   ]
  },
  {
   "cell_type": "markdown",
   "id": "4d2e34ce",
   "metadata": {},
   "source": [
    "#### Model Building"
   ]
  },
  {
   "cell_type": "code",
   "execution_count": 95,
   "id": "46edb222",
   "metadata": {},
   "outputs": [
    {
     "data": {
      "text/plain": [
       "RandomForestClassifier(max_depth=20, min_samples_split=10, n_estimators=300,\n",
       "                       random_state=42)"
      ]
     },
     "execution_count": 95,
     "metadata": {},
     "output_type": "execute_result"
    }
   ],
   "source": [
    "# Train the model on the balanced training data\n",
    "best_rf = RandomForestClassifier(random_state=42, **best_params)\n",
    "best_rf.fit(X_train, y_train)"
   ]
  },
  {
   "cell_type": "code",
   "execution_count": 96,
   "id": "76e253e6",
   "metadata": {},
   "outputs": [],
   "source": [
    "# Make predictions on the test dataset\n",
    "best_y_pred = best_rf.predict(X_test)"
   ]
  },
  {
   "cell_type": "markdown",
   "id": "26821648",
   "metadata": {},
   "source": [
    "#### Performance Reporting for the best model"
   ]
  },
  {
   "cell_type": "code",
   "execution_count": 97,
   "id": "7595fc06",
   "metadata": {},
   "outputs": [
    {
     "name": "stdout",
     "output_type": "stream",
     "text": [
      "Accuracy: 0.6902454780361758\n",
      "Precision: 0.6695869837296621\n",
      "Recall: 0.7128580946035976\n",
      "F1-score: 0.6905453372055502\n"
     ]
    }
   ],
   "source": [
    "# Calculate performance metrics\n",
    "accuracy = accuracy_score(y_test, best_y_pred)\n",
    "precision = precision_score(y_test, best_y_pred)\n",
    "recall = recall_score(y_test, best_y_pred)\n",
    "f1 = f1_score(y_test, best_y_pred)\n",
    "\n",
    "# Print performance metrics\n",
    "print(\"Accuracy:\", accuracy)\n",
    "print(\"Precision:\", precision)\n",
    "print(\"Recall:\", recall)\n",
    "print(\"F1-score:\", f1)"
   ]
  },
  {
   "cell_type": "code",
   "execution_count": null,
   "id": "e48da78d",
   "metadata": {},
   "outputs": [],
   "source": []
  }
 ],
 "metadata": {
  "kernelspec": {
   "display_name": "Python 3 (ipykernel)",
   "language": "python",
   "name": "python3"
  },
  "language_info": {
   "codemirror_mode": {
    "name": "ipython",
    "version": 3
   },
   "file_extension": ".py",
   "mimetype": "text/x-python",
   "name": "python",
   "nbconvert_exporter": "python",
   "pygments_lexer": "ipython3",
   "version": "3.9.12"
  }
 },
 "nbformat": 4,
 "nbformat_minor": 5
}
